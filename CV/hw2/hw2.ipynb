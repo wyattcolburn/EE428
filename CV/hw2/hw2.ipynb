{
 "cells": [
  {
   "cell_type": "code",
   "execution_count": 2,
   "metadata": {},
   "outputs": [
    {
     "data": {
      "text/plain": [
       "'\\nResources used:\\n    https://scikit-image.org/docs/stable/api/skimage.feature.html#skimage.feature.SIFT\\n'"
      ]
     },
     "execution_count": 2,
     "metadata": {},
     "output_type": "execute_result"
    }
   ],
   "source": [
    "import glob\n",
    "import os\n",
    "import imageio\n",
    "import skimage as ski\n",
    "import numpy as np\n",
    "import matplotlib\n",
    "from matplotlib import pyplot as plt\n",
    "import matplotlib.pyplot as plt\n",
    "from skimage.feature import SIFT, match_descriptors\n",
    "from sklearn.cluster import KMeans\n",
    "import pickle\n",
    "\"\"\"\n",
    "Resources used:\n",
    "    https://scikit-image.org/docs/stable/api/skimage.feature.html#skimage.feature.SIFT\n",
    "\"\"\""
   ]
  },
  {
   "cell_type": "code",
   "execution_count": 3,
   "metadata": {},
   "outputs": [],
   "source": [
    "def grey_list(paths):\n",
    "    \n",
    "    gray_list =[] #for path in paths:\n",
    "    detector_list = []\n",
    "    i = 0\n",
    "    for path in paths:    \n",
    "        image = imageio.v2.imread(path)\n",
    "        gray_image = ski.color.rgb2gray(image) #this turns each pixel into a float 0-1\n",
    "        gray_list.append(gray_image)\n",
    "        sift_stuff(gray_image, detector_list)\n",
    "    return detector_list\n",
    "\n",
    "def sift_stuff(image, list):\n",
    "    #descriptors are the local image gradient info, around the keypoint\n",
    "    descriptor_extractor= SIFT()\n",
    "    descriptor_extractor.detect_and_extract(image)\n",
    "    list.append(descriptor_extractor.descriptors) # appending x amount of descriptors, each descriptor has 128 features"
   ]
  },
  {
   "cell_type": "code",
   "execution_count": 4,
   "metadata": {},
   "outputs": [],
   "source": [
    "\n",
    "paths = sorted(glob.glob('Childrens-Books/*.jpg'))\n",
    "\n",
    "sift_list = grey_list(paths)"
   ]
  },
  {
   "cell_type": "code",
   "execution_count": 5,
   "metadata": {},
   "outputs": [],
   "source": [
    "with open('data.pkl', 'wb') as f:\n",
    "    pickle.dump(sift_list, f)"
   ]
  },
  {
   "cell_type": "code",
   "execution_count": null,
   "metadata": {},
   "outputs": [],
   "source": [
    "with open('data.pkl', 'rb') as f:\n",
    "    sift_list = pickle.load(f)"
   ]
  },
  {
   "cell_type": "code",
   "execution_count": 35,
   "metadata": {},
   "outputs": [],
   "source": [
    "for i, item in enumerate(sift_list):\n",
    "    if item is not None and len(item) > 0:\n",
    "        continue\n",
    "    else:\n",
    "        print(\"value not valid\")"
   ]
  },
  {
   "cell_type": "code",
   "execution_count": 39,
   "metadata": {},
   "outputs": [],
   "source": [
    "\n",
    "    #https://scikit-learn.org/stable/modules/generated/sklearn.cluster.KMeans.html\n",
    "kmeans = KMeans(n_clusters=1000)\n",
    "flat_array = np.vstack(sift_list)\n",
    "mean_list = kmeans.fit(flat_array) #needs a 1D array"
   ]
  },
  {
   "cell_type": "code",
   "execution_count": 41,
   "metadata": {},
   "outputs": [],
   "source": [
    "\n",
    "    \n",
    "cluster_list = []\n",
    "for item in sift_list:\n",
    "    if item is not None and len(item) > 0:\n",
    "        val = kmeans.predict(item)\n",
    "        cluster_list.append(val)\n",
    "    else: \n",
    "        print(item, \"not valid\")"
   ]
  },
  {
   "cell_type": "code",
   "execution_count": 48,
   "metadata": {},
   "outputs": [
    {
     "name": "stdout",
     "output_type": "stream",
     "text": [
      "(387790, 128)\n",
      "306\n",
      "306\n"
     ]
    }
   ],
   "source": [
    "print(flat_array.shape)\n",
    "print(len(sift_list[0]))\n",
    "print(len(cluster_list[0]))"
   ]
  },
  {
   "cell_type": "code",
   "execution_count": 1,
   "metadata": {},
   "outputs": [
    {
     "ename": "NameError",
     "evalue": "name 'cluster_list' is not defined",
     "output_type": "error",
     "traceback": [
      "\u001b[0;31m---------------------------------------------------------------------------\u001b[0m",
      "\u001b[0;31mNameError\u001b[0m                                 Traceback (most recent call last)",
      "Cell \u001b[0;32mIn[1], line 2\u001b[0m\n\u001b[1;32m      1\u001b[0m feature_list \u001b[38;5;241m=\u001b[39m []\n\u001b[0;32m----> 2\u001b[0m \u001b[38;5;28;01mfor\u001b[39;00m val \u001b[38;5;129;01min\u001b[39;00m \u001b[43mcluster_list\u001b[49m:\n\u001b[1;32m      3\u001b[0m     feature \u001b[38;5;241m=\u001b[39m kmeans\u001b[38;5;241m.\u001b[39mget_feature_names_out(val)\n\u001b[1;32m      4\u001b[0m     feature_list\u001b[38;5;241m.\u001b[39mappend(feature)\n",
      "\u001b[0;31mNameError\u001b[0m: name 'cluster_list' is not defined"
     ]
    }
   ],
   "source": [
    "feature_list = []\n",
    "for val in cluster_list:\n",
    "    feature = kmeans.get_feature_names_out(val)\n",
    "    feature_list.append(feature)"
   ]
  },
  {
   "cell_type": "code",
   "execution_count": null,
   "metadata": {},
   "outputs": [],
   "source": [
    "\n",
    "cluster_list = sift_average(sift_list)"
   ]
  }
 ],
 "metadata": {
  "kernelspec": {
   "display_name": "Python 3",
   "language": "python",
   "name": "python3"
  },
  "language_info": {
   "codemirror_mode": {
    "name": "ipython",
    "version": 3
   },
   "file_extension": ".py",
   "mimetype": "text/x-python",
   "name": "python",
   "nbconvert_exporter": "python",
   "pygments_lexer": "ipython3",
   "version": "3.10.12"
  }
 },
 "nbformat": 4,
 "nbformat_minor": 2
}
