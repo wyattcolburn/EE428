{
 "cells": [
  {
   "cell_type": "code",
   "execution_count": 2,
   "metadata": {},
   "outputs": [
    {
     "data": {
      "text/plain": [
       "'\\nResources used:\\n    https://scikit-image.org/docs/stable/api/skimage.feature.html#skimage.feature.SIFT\\n'"
      ]
     },
     "execution_count": 2,
     "metadata": {},
     "output_type": "execute_result"
    }
   ],
   "source": [
    "import glob\n",
    "import os\n",
    "import imageio\n",
    "import skimage as ski\n",
    "import numpy as np\n",
    "import matplotlib\n",
    "from matplotlib import pyplot as plt\n",
    "import matplotlib.pyplot as plt\n",
    "from skimage.feature import SIFT, match_descriptors\n",
    "from sklearn.cluster import KMeans\n",
    "import pickle\n",
    "\"\"\"\n",
    "Resources used:\n",
    "    https://scikit-image.org/docs/stable/api/skimage.feature.html#skimage.feature.SIFT\n",
    "\"\"\""
   ]
  },
  {
   "cell_type": "code",
   "execution_count": 3,
   "metadata": {},
   "outputs": [],
   "source": [
    "def grey_list(paths):\n",
    "    \n",
    "    gray_list =[] #for path in paths:\n",
    "    detector_list = []\n",
    "    i = 0\n",
    "    for path in paths:    \n",
    "        image = imageio.v2.imread(path)\n",
    "        gray_image = ski.color.rgb2gray(image) #this turns each pixel into a float 0-1\n",
    "        gray_list.append(gray_image)\n",
    "        sift_stuff(gray_image, detector_list)\n",
    "    return detector_list\n",
    "\n",
    "def sift_stuff(image, list):\n",
    "    #descriptors are the local image gradient info, around the keypoint\n",
    "    descriptor_extractor= SIFT()\n",
    "    descriptor_extractor.detect_and_extract(image)\n",
    "    list.append(descriptor_extractor.descriptors) # appending x amount of descriptors, each descriptor has 128 features"
   ]
  },
  {
   "cell_type": "code",
   "execution_count": 4,
   "metadata": {},
   "outputs": [],
   "source": [
    "\n",
    "paths = sorted(glob.glob('Childrens-Books/*.jpg'))\n",
    "\n",
    "sift_list = grey_list(paths)"
   ]
  },
  {
   "cell_type": "code",
   "execution_count": 5,
   "metadata": {},
   "outputs": [],
   "source": [
    "with open('data.pkl', 'wb') as f:\n",
    "    pickle.dump(sift_list, f)"
   ]
  },
  {
   "cell_type": "code",
   "execution_count": null,
   "metadata": {},
   "outputs": [],
   "source": []
  },
  {
   "cell_type": "code",
   "execution_count": 6,
   "metadata": {},
   "outputs": [],
   "source": [
    "for i, item in enumerate(sift_list):\n",
    "    if item is not None and len(item) > 0:\n",
    "        continue\n",
    "    else:\n",
    "        print(\"value not valid\")"
   ]
  },
  {
   "cell_type": "code",
   "execution_count": 7,
   "metadata": {},
   "outputs": [],
   "source": [
    "\n",
    "    #https://scikit-learn.org/stable/modules/generated/sklearn.cluster.KMeans.html\n",
    "kmeans = KMeans(n_clusters=1000)\n",
    "flat_array = np.vstack(sift_list)\n",
    "mean_list = kmeans.fit(flat_array) #needs a 1D array"
   ]
  },
  {
   "cell_type": "code",
   "execution_count": 9,
   "metadata": {},
   "outputs": [],
   "source": [
    "with open('kmeans_data.pkl', 'wb') as f:\n",
    "    pickle.dump(kmeans, f)"
   ]
  },
  {
   "cell_type": "code",
   "execution_count": 11,
   "metadata": {},
   "outputs": [],
   "source": [
    "\n",
    "    \n",
    "cluster_list = []\n",
    "for item in sift_list:\n",
    "    if item is not None and len(item) > 0:\n",
    "        val = kmeans.predict(item)\n",
    "        cluster_list.append(val)\n",
    "    else: \n",
    "        print(item, \"not valid\")"
   ]
  },
  {
   "cell_type": "code",
   "execution_count": 19,
   "metadata": {},
   "outputs": [
    {
     "name": "stdout",
     "output_type": "stream",
     "text": [
      "(387790, 128)\n",
      "306\n",
      "573\n"
     ]
    }
   ],
   "source": [
    "print(flat_array.shape)\n",
    "print(len(sift_list[0]))\n",
    "print((cluster_list[0])) # returns for image 1, which cluster labels it aligns with"
   ]
  },
  {
   "cell_type": "code",
   "execution_count": 27,
   "metadata": {},
   "outputs": [],
   "source": [
    "str_list = []\n",
    "for index, cluster in enumerate(cluster_list):\n",
    "    local_string = \"\"\n",
    "    for x in range(len(cluster)):\n",
    "        local_string += str(cluster[x]) + \" \"\n",
    "    str_list.append(local_string)\n",
    "    \n",
    "    "
   ]
  },
  {
   "cell_type": "code",
   "execution_count": 28,
   "metadata": {},
   "outputs": [
    {
     "data": {
      "text/plain": [
       "'727 0 274 395 345 60 354 723 795 462 795 159 795 723 795 696 829 805 185 829 220 345 60 829 829 467 60 345 219 865 656 579 579 52 795 795 898 789 837 687 903 73 73 812 63 205 33 173 242 500 65 287 736 786 716 100 33 558 33 279 500 888 812 686 960 833 418 100 386 68 463 606 448 288 940 543 18 107 452 753 846 583 73 715 960 753 902 100 732 223 721 828 828 338 659 159 280 418 990 556 300 159 781 367 930 871 612 781 3 534 552 870 534 116 816 534 870 84 116 473 695 39 258 159 159 159 39 159 50 913 713 338 976 605 84 781 258 534 473 534 617 258 428 159 913 973 124 124 472 963 67 460 429 138 33 429 426 100 975 715 281 744 960 732 279 967 279 279 100 967 960 960 731 279 279 279 426 426 416 190 619 624 515 960 342 134 960 963 963 889 889 744 443 426 364 268 426 850 911 911 145 697 145 529 903 963 472 812 472 812 963 152 436 10 746 857 152 198 436 436 690 122 27 494 303 783 368 4 599 65 736 732 732 435 816 473 229 732 358 358 847 39 591 728 870 258 159 258 393 795 258 173 534 998 534 505 534 998 505 116 781 659 258 781 258 781 258 781 781 258 781 358 179 39 280 487 702 258 534 534 781 159 913 39 781 978 844 147 661 732 844 844 153 818 145 797 732 911 911 808 556 889 889 990 918 362 '"
      ]
     },
     "execution_count": 28,
     "metadata": {},
     "output_type": "execute_result"
    }
   ],
   "source": [
    "str_list[0]"
   ]
  },
  {
   "cell_type": "code",
   "execution_count": 29,
   "metadata": {},
   "outputs": [],
   "source": [
    "from sklearn.feature_extraction.text import TfidfVectorizer\n",
    "#https://scikit-learn.org/stable/modules/generated/sklearn.feature_extraction.text.TfidfVectorizer.html"
   ]
  },
  {
   "cell_type": "code",
   "execution_count": 30,
   "metadata": {},
   "outputs": [],
   "source": [
    "vectorizer = TfidfVectorizer()"
   ]
  },
  {
   "cell_type": "code",
   "execution_count": null,
   "metadata": {},
   "outputs": [],
   "source": []
  }
 ],
 "metadata": {
  "kernelspec": {
   "display_name": "Python 3",
   "language": "python",
   "name": "python3"
  },
  "language_info": {
   "codemirror_mode": {
    "name": "ipython",
    "version": 3
   },
   "file_extension": ".py",
   "mimetype": "text/x-python",
   "name": "python",
   "nbconvert_exporter": "python",
   "pygments_lexer": "ipython3",
   "version": "3.10.12"
  }
 },
 "nbformat": 4,
 "nbformat_minor": 2
}
