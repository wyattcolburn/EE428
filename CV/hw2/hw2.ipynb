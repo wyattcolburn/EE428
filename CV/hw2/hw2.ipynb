{
 "cells": [
  {
   "cell_type": "code",
   "execution_count": 12,
   "metadata": {},
   "outputs": [
    {
     "data": {
      "text/plain": [
       "'\\nResources used:\\n    https://scikit-image.org/docs/stable/api/skimage.feature.html#skimage.feature.SIFT\\n'"
      ]
     },
     "execution_count": 12,
     "metadata": {},
     "output_type": "execute_result"
    }
   ],
   "source": [
    "import glob\n",
    "import os\n",
    "import imageio\n",
    "import skimage as ski\n",
    "import numpy as np\n",
    "import matplotlib\n",
    "matplotlib.use('gtk3agg')  # Use gtk3agg for GNOME\n",
    "from matplotlib import pyplot as plt\n",
    "import matplotlib.pyplot as plt\n",
    "from skimage.feature import SIFT, match_descriptors\n",
    "from sklearn.cluster import KMeans\n",
    "\n",
    "\"\"\"\n",
    "Resources used:\n",
    "    https://scikit-image.org/docs/stable/api/skimage.feature.html#skimage.feature.SIFT\n",
    "\"\"\""
   ]
  },
  {
   "cell_type": "code",
   "execution_count": 13,
   "metadata": {},
   "outputs": [],
   "source": [
    "import glob\n",
    "import os\n",
    "import imageio\n",
    "import skimage as ski\n",
    "import numpy as np\n",
    "import matplotlib\n",
    "matplotlib.use('gtk3agg')  # Use gtk3agg for GNOME\n",
    "from matplotlib import pyplot as plt\n",
    "import matplotlib.pyplot as plt\n",
    "from skimage.feature import SIFT, match_descriptors\n",
    "from sklearn.cluster import KMeans"
   ]
  },
  {
   "cell_type": "code",
   "execution_count": 14,
   "metadata": {},
   "outputs": [],
   "source": [
    "def grey_list(paths):\n",
    "    \n",
    "    gray_list =[] #for path in paths:\n",
    "    detector_list = []\n",
    "    i = 0\n",
    "    for path in paths:    \n",
    "        image = imageio.v2.imread(path)\n",
    "        gray_image = ski.color.rgb2gray(image) #this turns each pixel into a float 0-1\n",
    "        gray_list.append(gray_image)\n",
    "        sift_stuff(gray_image, detector_list)\n",
    "    return detector_list\n",
    "\n",
    "def sift_stuff(image, list):\n",
    "    #descriptors are the local image gradient info, around the keypoint\n",
    "    descriptor_extractor= SIFT()\n",
    "    descriptor_extractor.detect_and_extract(image)\n",
    "    list.append(descriptor_extractor.descriptors) # appending x amount of descriptors, each descriptor has 128 features"
   ]
  },
  {
   "cell_type": "code",
   "execution_count": 15,
   "metadata": {},
   "outputs": [],
   "source": [
    "\n",
    "paths = sorted(glob.glob('Childrens-Books/*.jpg'))\n",
    "\n",
    "sift_list = grey_list(paths)"
   ]
  },
  {
   "cell_type": "code",
   "execution_count": 35,
   "metadata": {},
   "outputs": [],
   "source": [
    "for i, item in enumerate(sift_list):\n",
    "    if item is not None and len(item) > 0:\n",
    "        continue\n",
    "    else:\n",
    "        print(\"value not valid\")"
   ]
  },
  {
   "cell_type": "code",
   "execution_count": 39,
   "metadata": {},
   "outputs": [],
   "source": [
    "\n",
    "    #https://scikit-learn.org/stable/modules/generated/sklearn.cluster.KMeans.html\n",
    "kmeans = KMeans(n_clusters=1000)\n",
    "flat_array = np.vstack(sift_list)\n",
    "mean_list = kmeans.fit(flat_array) #needs a 1D array"
   ]
  },
  {
   "cell_type": "code",
   "execution_count": 41,
   "metadata": {},
   "outputs": [],
   "source": [
    "\n",
    "    \n",
    "cluster_list = []\n",
    "for item in sift_list:\n",
    "    if item is not None and len(item) > 0:\n",
    "        val = kmeans.predict(item)\n",
    "        cluster_list.append(val)\n",
    "    else: \n",
    "        print(item, \"not valid\")"
   ]
  },
  {
   "cell_type": "code",
   "execution_count": 48,
   "metadata": {},
   "outputs": [
    {
     "name": "stdout",
     "output_type": "stream",
     "text": [
      "(387790, 128)\n",
      "306\n",
      "306\n"
     ]
    }
   ],
   "source": [
    "print(flat_array.shape)\n",
    "print(len(sift_list[0]))\n",
    "print(len(cluster_list[0]))"
   ]
  },
  {
   "cell_type": "code",
   "execution_count": 43,
   "metadata": {},
   "outputs": [
    {
     "ename": "ValueError",
     "evalue": "input_features should have length equal to number of features (128), got 306",
     "output_type": "error",
     "traceback": [
      "\u001b[0;31m---------------------------------------------------------------------------\u001b[0m",
      "\u001b[0;31mValueError\u001b[0m                                Traceback (most recent call last)",
      "Cell \u001b[0;32mIn[43], line 3\u001b[0m\n\u001b[1;32m      1\u001b[0m feature_list \u001b[38;5;241m=\u001b[39m []\n\u001b[1;32m      2\u001b[0m \u001b[38;5;28;01mfor\u001b[39;00m val \u001b[38;5;129;01min\u001b[39;00m cluster_list:\n\u001b[0;32m----> 3\u001b[0m     feature \u001b[38;5;241m=\u001b[39m \u001b[43mkmeans\u001b[49m\u001b[38;5;241;43m.\u001b[39;49m\u001b[43mget_feature_names_out\u001b[49m\u001b[43m(\u001b[49m\u001b[43mval\u001b[49m\u001b[43m)\u001b[49m\n\u001b[1;32m      4\u001b[0m     feature_list\u001b[38;5;241m.\u001b[39mappend(feature)\n",
      "File \u001b[0;32m~/.local/lib/python3.10/site-packages/sklearn/base.py:1190\u001b[0m, in \u001b[0;36mClassNamePrefixFeaturesOutMixin.get_feature_names_out\u001b[0;34m(self, input_features)\u001b[0m\n\u001b[1;32m   1173\u001b[0m \u001b[38;5;124;03m\"\"\"Get output feature names for transformation.\u001b[39;00m\n\u001b[1;32m   1174\u001b[0m \n\u001b[1;32m   1175\u001b[0m \u001b[38;5;124;03mThe feature names out will prefixed by the lowercased class name. For\u001b[39;00m\n\u001b[0;32m   (...)\u001b[0m\n\u001b[1;32m   1187\u001b[0m \u001b[38;5;124;03m    Transformed feature names.\u001b[39;00m\n\u001b[1;32m   1188\u001b[0m \u001b[38;5;124;03m\"\"\"\u001b[39;00m\n\u001b[1;32m   1189\u001b[0m check_is_fitted(\u001b[38;5;28mself\u001b[39m, \u001b[38;5;124m\"\u001b[39m\u001b[38;5;124m_n_features_out\u001b[39m\u001b[38;5;124m\"\u001b[39m)\n\u001b[0;32m-> 1190\u001b[0m \u001b[38;5;28;01mreturn\u001b[39;00m \u001b[43m_generate_get_feature_names_out\u001b[49m\u001b[43m(\u001b[49m\n\u001b[1;32m   1191\u001b[0m \u001b[43m    \u001b[49m\u001b[38;5;28;43mself\u001b[39;49m\u001b[43m,\u001b[49m\u001b[43m \u001b[49m\u001b[38;5;28;43mself\u001b[39;49m\u001b[38;5;241;43m.\u001b[39;49m\u001b[43m_n_features_out\u001b[49m\u001b[43m,\u001b[49m\u001b[43m \u001b[49m\u001b[43minput_features\u001b[49m\u001b[38;5;241;43m=\u001b[39;49m\u001b[43minput_features\u001b[49m\n\u001b[1;32m   1192\u001b[0m \u001b[43m\u001b[49m\u001b[43m)\u001b[49m\n",
      "File \u001b[0;32m~/.local/lib/python3.10/site-packages/sklearn/utils/validation.py:2374\u001b[0m, in \u001b[0;36m_generate_get_feature_names_out\u001b[0;34m(estimator, n_features_out, input_features)\u001b[0m\n\u001b[1;32m   2352\u001b[0m \u001b[38;5;28;01mdef\u001b[39;00m \u001b[38;5;21m_generate_get_feature_names_out\u001b[39m(estimator, n_features_out, input_features\u001b[38;5;241m=\u001b[39m\u001b[38;5;28;01mNone\u001b[39;00m):\n\u001b[1;32m   2353\u001b[0m     \u001b[38;5;124;03m\"\"\"Generate feature names out for estimator using the estimator name as the prefix.\u001b[39;00m\n\u001b[1;32m   2354\u001b[0m \n\u001b[1;32m   2355\u001b[0m \u001b[38;5;124;03m    The input_feature names are validated but not used. This function is useful\u001b[39;00m\n\u001b[0;32m   (...)\u001b[0m\n\u001b[1;32m   2372\u001b[0m \u001b[38;5;124;03m        Feature names in.\u001b[39;00m\n\u001b[1;32m   2373\u001b[0m \u001b[38;5;124;03m    \"\"\"\u001b[39;00m\n\u001b[0;32m-> 2374\u001b[0m     \u001b[43m_check_feature_names_in\u001b[49m\u001b[43m(\u001b[49m\u001b[43mestimator\u001b[49m\u001b[43m,\u001b[49m\u001b[43m \u001b[49m\u001b[43minput_features\u001b[49m\u001b[43m,\u001b[49m\u001b[43m \u001b[49m\u001b[43mgenerate_names\u001b[49m\u001b[38;5;241;43m=\u001b[39;49m\u001b[38;5;28;43;01mFalse\u001b[39;49;00m\u001b[43m)\u001b[49m\n\u001b[1;32m   2375\u001b[0m     estimator_name \u001b[38;5;241m=\u001b[39m estimator\u001b[38;5;241m.\u001b[39m\u001b[38;5;18m__class__\u001b[39m\u001b[38;5;241m.\u001b[39m\u001b[38;5;18m__name__\u001b[39m\u001b[38;5;241m.\u001b[39mlower()\n\u001b[1;32m   2376\u001b[0m     \u001b[38;5;28;01mreturn\u001b[39;00m np\u001b[38;5;241m.\u001b[39masarray(\n\u001b[1;32m   2377\u001b[0m         [\u001b[38;5;124mf\u001b[39m\u001b[38;5;124m\"\u001b[39m\u001b[38;5;132;01m{\u001b[39;00mestimator_name\u001b[38;5;132;01m}\u001b[39;00m\u001b[38;5;132;01m{\u001b[39;00mi\u001b[38;5;132;01m}\u001b[39;00m\u001b[38;5;124m\"\u001b[39m \u001b[38;5;28;01mfor\u001b[39;00m i \u001b[38;5;129;01min\u001b[39;00m \u001b[38;5;28mrange\u001b[39m(n_features_out)], dtype\u001b[38;5;241m=\u001b[39m\u001b[38;5;28mobject\u001b[39m\n\u001b[1;32m   2378\u001b[0m     )\n",
      "File \u001b[0;32m~/.local/lib/python3.10/site-packages/sklearn/utils/validation.py:2333\u001b[0m, in \u001b[0;36m_check_feature_names_in\u001b[0;34m(estimator, input_features, generate_names)\u001b[0m\n\u001b[1;32m   2330\u001b[0m         \u001b[38;5;28;01mraise\u001b[39;00m \u001b[38;5;167;01mValueError\u001b[39;00m(\u001b[38;5;124m\"\u001b[39m\u001b[38;5;124minput_features is not equal to feature_names_in_\u001b[39m\u001b[38;5;124m\"\u001b[39m)\n\u001b[1;32m   2332\u001b[0m     \u001b[38;5;28;01mif\u001b[39;00m n_features_in_ \u001b[38;5;129;01mis\u001b[39;00m \u001b[38;5;129;01mnot\u001b[39;00m \u001b[38;5;28;01mNone\u001b[39;00m \u001b[38;5;129;01mand\u001b[39;00m \u001b[38;5;28mlen\u001b[39m(input_features) \u001b[38;5;241m!=\u001b[39m n_features_in_:\n\u001b[0;32m-> 2333\u001b[0m         \u001b[38;5;28;01mraise\u001b[39;00m \u001b[38;5;167;01mValueError\u001b[39;00m(\n\u001b[1;32m   2334\u001b[0m             \u001b[38;5;124m\"\u001b[39m\u001b[38;5;124minput_features should have length equal to number of \u001b[39m\u001b[38;5;124m\"\u001b[39m\n\u001b[1;32m   2335\u001b[0m             \u001b[38;5;124mf\u001b[39m\u001b[38;5;124m\"\u001b[39m\u001b[38;5;124mfeatures (\u001b[39m\u001b[38;5;132;01m{\u001b[39;00mn_features_in_\u001b[38;5;132;01m}\u001b[39;00m\u001b[38;5;124m), got \u001b[39m\u001b[38;5;132;01m{\u001b[39;00m\u001b[38;5;28mlen\u001b[39m(input_features)\u001b[38;5;132;01m}\u001b[39;00m\u001b[38;5;124m\"\u001b[39m\n\u001b[1;32m   2336\u001b[0m         )\n\u001b[1;32m   2337\u001b[0m     \u001b[38;5;28;01mreturn\u001b[39;00m input_features\n\u001b[1;32m   2339\u001b[0m \u001b[38;5;28;01mif\u001b[39;00m feature_names_in_ \u001b[38;5;129;01mis\u001b[39;00m \u001b[38;5;129;01mnot\u001b[39;00m \u001b[38;5;28;01mNone\u001b[39;00m:\n",
      "\u001b[0;31mValueError\u001b[0m: input_features should have length equal to number of features (128), got 306"
     ]
    }
   ],
   "source": [
    "feature_list = []\n",
    "for val in cluster_list:\n",
    "    feature = kmeans.get_feature_names_out(val)\n",
    "    feature_list.append(feature)"
   ]
  },
  {
   "cell_type": "code",
   "execution_count": null,
   "metadata": {},
   "outputs": [],
   "source": [
    "\n",
    "cluster_list = sift_average(sift_list)"
   ]
  }
 ],
 "metadata": {
  "kernelspec": {
   "display_name": "Python 3",
   "language": "python",
   "name": "python3"
  },
  "language_info": {
   "codemirror_mode": {
    "name": "ipython",
    "version": 3
   },
   "file_extension": ".py",
   "mimetype": "text/x-python",
   "name": "python",
   "nbconvert_exporter": "python",
   "pygments_lexer": "ipython3",
   "version": "3.10.12"
  }
 },
 "nbformat": 4,
 "nbformat_minor": 2
}
