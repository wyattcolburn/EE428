{
 "cells": [
  {
   "cell_type": "code",
   "execution_count": 67,
   "metadata": {},
   "outputs": [
    {
     "data": {
      "text/plain": [
       "'\\nResources used:\\n    https://scikit-image.org/docs/stable/api/skimage.feature.html#skimage.feature.SIFT\\n'"
      ]
     },
     "execution_count": 67,
     "metadata": {},
     "output_type": "execute_result"
    }
   ],
   "source": [
    "import glob\n",
    "import os\n",
    "import imageio\n",
    "import skimage as ski\n",
    "import numpy as np\n",
    "import matplotlib\n",
    "from matplotlib import pyplot as plt\n",
    "import matplotlib.pyplot as plt\n",
    "from skimage.feature import SIFT, match_descriptors\n",
    "from sklearn.cluster import KMeans\n",
    "import pickle\n",
    "\n",
    "from sklearn.feature_extraction.text import TfidfVectorizer\n",
    "#https://scikit-learn.org/stable/modules/generated/sklearn.feature_extraction.text.TfidfVectorizer.html\n",
    "from sklearn.neighbors import NearestNeighbors\n",
    "#https://scikit-learn.org/0.15/modules/generated/sklearn.neighbors.NearestNeighbors.html\n",
    "\"\"\"\n",
    "Resources used:\n",
    "    https://scikit-image.org/docs/stable/api/skimage.feature.html#skimage.feature.SIFT\n",
    "\"\"\""
   ]
  },
  {
   "cell_type": "code",
   "execution_count": 68,
   "metadata": {},
   "outputs": [],
   "source": [
    "def grey_list(paths):\n",
    "    \n",
    "    gray_list =[] #for path in paths:\n",
    "    detector_list = []\n",
    "    i = 0\n",
    "    for path in paths:    \n",
    "        image = imageio.v2.imread(path)\n",
    "        gray_image = ski.color.rgb2gray(image) #this turns each pixel into a float 0-1\n",
    "        gray_list.append(gray_image)\n",
    "        sift_stuff(gray_image, detector_list)\n",
    "    return detector_list\n",
    "\n",
    "def sift_stuff(image, list):\n",
    "    #descriptors are the local image gradient info, around the keypoint\n",
    "    descriptor_extractor= SIFT()\n",
    "    descriptor_extractor.detect_and_extract(image)\n",
    "    list.append(descriptor_extractor.descriptors) # appending x amount of descriptors, each descriptor has 128 features\n",
    "    \n",
    "def predict(input_list, output_list):\n",
    "    for item in input_list:\n",
    "        if item is not None and len(item) > 0:\n",
    "            val = kmeans.predict(item)\n",
    "            output_list.append(val)\n",
    "        else: \n",
    "            print(\"Incorrect item\")\n",
    "    "
   ]
  },
  {
   "cell_type": "code",
   "execution_count": 10,
   "metadata": {},
   "outputs": [],
   "source": [
    "\n",
    "paths = sorted(glob.glob('Childrens-Books/*.jpg'))\n",
    "\n",
    "sift_list = grey_list(paths)"
   ]
  },
  {
   "cell_type": "code",
   "execution_count": 13,
   "metadata": {},
   "outputs": [],
   "source": [
    "\n",
    "    #https://scikit-learn.org/stable/modules/generated/sklearn.cluster.KMeans.html\n",
    "kmeans = KMeans(n_clusters=1000)\n",
    "flat_array = np.vstack(sift_list)\n",
    "mean_list = kmeans.fit(flat_array) #needs a 1D array"
   ]
  },
  {
   "cell_type": "code",
   "execution_count": 14,
   "metadata": {},
   "outputs": [],
   "source": [
    "with open('kmeans_data.pkl', 'wb') as f:\n",
    "    pickle.dump(kmeans, f)"
   ]
  },
  {
   "cell_type": "code",
   "execution_count": 15,
   "metadata": {},
   "outputs": [],
   "source": [
    " with open('kmeans_data.pkl', 'rb') as f:\n",
    "    kmean_data_backup = pickle.load(f)"
   ]
  },
  {
   "cell_type": "code",
   "execution_count": 16,
   "metadata": {},
   "outputs": [],
   "source": [
    "#create a list which correlates to the order of images in childrens book which is the prediction of which clusters appear\n",
    "    \n",
    "cluster_list = []\n",
    "for item in sift_list:\n",
    "    if item is not None and len(item) > 0:\n",
    "        val = kmeans.predict(item)\n",
    "        cluster_list.append(val)\n",
    "    else: \n",
    "        print(item, \"not valid\")"
   ]
  },
  {
   "cell_type": "code",
   "execution_count": 62,
   "metadata": {},
   "outputs": [],
   "source": [
    "#convert the elements of the above list into strings\n",
    "str_list = []\n",
    "for index, cluster in enumerate(cluster_list):\n",
    "    local_string = \"\"\n",
    "    for x in range(len(cluster)):\n",
    "        local_string += str(cluster[x]) + \" \"\n",
    "    str_list.append(local_string)\n",
    "    \n",
    "    "
   ]
  },
  {
   "cell_type": "code",
   "execution_count": 46,
   "metadata": {},
   "outputs": [],
   "source": [
    "vectorizer = TfidfVectorizer()\n",
    "\n",
    "tfidf_matrix = vectorizer.fit_transform(str_list)\n",
    "\n",
    "knn = NearestNeighbors(n_neighbors=5, metric='cosine')# 5 because for queries I am finding 5 nearest images\n",
    "knn.fit(tfidf_matrix)"
   ]
  },
  {
   "cell_type": "code",
   "execution_count": 48,
   "metadata": {},
   "outputs": [],
   "source": [
    "queries_list = []\n",
    "path_query = sorted(glob.glob('queries/*.jpg'))\n",
    "\n",
    "queries_list = grey_list(path_query)\n",
    "\n",
    "output_list =[]\n",
    "predict(queries_list, output_list)\n",
    "\n"
   ]
  },
  {
   "cell_type": "code",
   "execution_count": 55,
   "metadata": {},
   "outputs": [],
   "source": [
    "queries_str_list = []\n",
    "for index, cluster in enumerate(output_list):\n",
    "    local_string = \"\"\n",
    "    for x in range(len(cluster)):\n",
    "        local_string += str(cluster[x]) + \" \"\n",
    "    queries_str_list.append(local_string)\n",
    "    \n"
   ]
  },
  {
   "cell_type": "code",
   "execution_count": 56,
   "metadata": {},
   "outputs": [
    {
     "name": "stdout",
     "output_type": "stream",
     "text": [
      "['queries/are-you-my-mother.jpg', 'queries/charlottes-web.jpg', 'queries/dont-let-the-pigeon-drive-the-bus.jpg', 'queries/lego-ideas-book.jpg', 'queries/room-on-the-broom.jpg', 'queries/stuck.jpg']\n"
     ]
    }
   ],
   "source": [
    "print(path_query)"
   ]
  },
  {
   "cell_type": "code",
   "execution_count": 57,
   "metadata": {},
   "outputs": [],
   "source": [
    "query_transform = vectorizer.transform([queries_str_list[0]])"
   ]
  },
  {
   "cell_type": "code",
   "execution_count": 58,
   "metadata": {},
   "outputs": [],
   "source": [
    "distances, indices = knn.kneighbors(query_transform)"
   ]
  },
  {
   "cell_type": "code",
   "execution_count": 59,
   "metadata": {},
   "outputs": [
    {
     "name": "stdout",
     "output_type": "stream",
     "text": [
      "[[0.51408138 0.52058796 0.52206184 0.55023668 0.55567243]] [[187 272 423 355 333]]\n"
     ]
    }
   ],
   "source": [
    "print(distances, indices)"
   ]
  }
 ],
 "metadata": {
  "kernelspec": {
   "display_name": "Python 3",
   "language": "python",
   "name": "python3"
  },
  "language_info": {
   "codemirror_mode": {
    "name": "ipython",
    "version": 3
   },
   "file_extension": ".py",
   "mimetype": "text/x-python",
   "name": "python",
   "nbconvert_exporter": "python",
   "pygments_lexer": "ipython3",
   "version": "3.10.12"
  }
 },
 "nbformat": 4,
 "nbformat_minor": 2
}
