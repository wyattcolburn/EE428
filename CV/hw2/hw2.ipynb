{
 "cells": [
  {
   "cell_type": "code",
   "execution_count": 3,
   "metadata": {},
   "outputs": [
    {
     "data": {
      "text/plain": [
       "'\\nResources used:\\n    https://scikit-image.org/docs/stable/api/skimage.feature.html#skimage.feature.SIFT\\n'"
      ]
     },
     "execution_count": 3,
     "metadata": {},
     "output_type": "execute_result"
    }
   ],
   "source": [
    "import glob\n",
    "import os\n",
    "import imageio\n",
    "import skimage as ski\n",
    "import numpy as np\n",
    "import matplotlib\n",
    "from matplotlib import pyplot as plt\n",
    "import matplotlib.pyplot as plt\n",
    "from skimage.feature import SIFT, match_descriptors\n",
    "from sklearn.cluster import KMeans\n",
    "import pickle\n",
    "\"\"\"\n",
    "Resources used:\n",
    "    https://scikit-image.org/docs/stable/api/skimage.feature.html#skimage.feature.SIFT\n",
    "\"\"\""
   ]
  },
  {
   "cell_type": "code",
   "execution_count": null,
   "metadata": {},
   "outputs": [],
   "source": []
  },
  {
   "cell_type": "code",
   "execution_count": 9,
   "metadata": {},
   "outputs": [],
   "source": [
    "def grey_list(paths):\n",
    "    \n",
    "    gray_list =[] #for path in paths:\n",
    "    detector_list = []\n",
    "    i = 0\n",
    "    for path in paths:    \n",
    "        image = imageio.v2.imread(path)\n",
    "        gray_image = ski.color.rgb2gray(image) #this turns each pixel into a float 0-1\n",
    "        gray_list.append(gray_image)\n",
    "        sift_stuff(gray_image, detector_list)\n",
    "    return detector_list\n",
    "\n",
    "def sift_stuff(image, list):\n",
    "    #descriptors are the local image gradient info, around the keypoint\n",
    "    descriptor_extractor= SIFT()\n",
    "    descriptor_extractor.detect_and_extract(image)\n",
    "    list.append(descriptor_extractor.descriptors) # appending x amount of descriptors, each descriptor has 128 features"
   ]
  },
  {
   "cell_type": "code",
   "execution_count": 10,
   "metadata": {},
   "outputs": [],
   "source": [
    "\n",
    "paths = sorted(glob.glob('Childrens-Books/*.jpg'))\n",
    "\n",
    "sift_list = grey_list(paths)"
   ]
  },
  {
   "cell_type": "code",
   "execution_count": 11,
   "metadata": {},
   "outputs": [],
   "source": [
    "with open('data.pkl', 'wb') as f:\n",
    "    pickle.dump(sift_list, f)"
   ]
  },
  {
   "cell_type": "code",
   "execution_count": 12,
   "metadata": {},
   "outputs": [],
   "source": [
    "with open('data.pkl', 'rb') as f:\n",
    "    sift_backup = pickle.load(f)"
   ]
  },
  {
   "cell_type": "code",
   "execution_count": 6,
   "metadata": {},
   "outputs": [],
   "source": [
    "for i, item in enumerate(sift_list):\n",
    "    if item is not None and len(item) > 0:\n",
    "        continue\n",
    "    else:\n",
    "        print(\"value not valid\")"
   ]
  },
  {
   "cell_type": "code",
   "execution_count": 13,
   "metadata": {},
   "outputs": [],
   "source": [
    "\n",
    "    #https://scikit-learn.org/stable/modules/generated/sklearn.cluster.KMeans.html\n",
    "kmeans = KMeans(n_clusters=1000)\n",
    "flat_array = np.vstack(sift_backup)\n",
    "mean_list = kmeans.fit(flat_array) #needs a 1D array"
   ]
  },
  {
   "cell_type": "code",
   "execution_count": 14,
   "metadata": {},
   "outputs": [],
   "source": [
    "with open('kmeans_data.pkl', 'wb') as f:\n",
    "    pickle.dump(kmeans, f)"
   ]
  },
  {
   "cell_type": "code",
   "execution_count": 15,
   "metadata": {},
   "outputs": [],
   "source": [
    "\n",
    "with open('data.pkl', 'rb') as f:\n",
    "    sift_list_backup = pickle.load(f)\n",
    "    \n",
    "with open('kmeans_data.pkl', 'rb') as f:\n",
    "    kmean_data_backup = pickle.load(f)"
   ]
  },
  {
   "cell_type": "code",
   "execution_count": 16,
   "metadata": {},
   "outputs": [],
   "source": [
    "\n",
    "    \n",
    "cluster_list = []\n",
    "for item in sift_list_backup:\n",
    "    if item is not None and len(item) > 0:\n",
    "        val = kmeans.predict(item)\n",
    "        cluster_list.append(val)\n",
    "    else: \n",
    "        print(item, \"not valid\")"
   ]
  },
  {
   "cell_type": "code",
   "execution_count": 17,
   "metadata": {},
   "outputs": [
    {
     "name": "stdout",
     "output_type": "stream",
     "text": [
      "(387790, 128)\n",
      "306\n",
      "[493 929 991 383 884 105 197 556 398 848 656 218 656 213 656 860 444 987\n",
      " 604 444 511 292 292 180 180 808 292 884 902 105 373 398 398 656 398 398\n",
      " 933 663  30 830 239 239 239 407 831 396 279 398 126  72 400 407 926  34\n",
      "  86 951 867 815 867 156  72 396 407 249 633 533  11 951 569 160 333 272\n",
      " 605 328 941 888 381 235 622 636 566 815 239 822 633 636 229 951 120 301\n",
      " 864 173 770 708 186 476 992 522 989  19 898 218 401 724 530 191 169 401\n",
      " 169 333 261  78 333 603 233 985  78 273 233 124 290 499 845 218 218 218\n",
      " 499 218 958 476 338 708 119 362 749 401 863 985  35 985 119 455 628 476\n",
      " 995  91 249  66 573 107 524 390 865 619 867 865 618 951 959 443 742 695\n",
      "  15 120 156 864 156 156 951 864 633 633 430 156 814 185 618 618 172 258\n",
      " 793 407 644 633 325 314 633  22  22 615 615 695 425 618 796 748 618 430\n",
      " 425 253 468 523 531 657 239 107 573 870 961 830 380 977 817 148 624 882\n",
      " 977 437 817 817 653 726 729 745 979 601 340 861 711 331 926 120 120 569\n",
      " 939 124 781  41 577 499 845 499 338 285  78 455 218 455 184 398 290 144\n",
      " 985 552 985 754 985 552 273 148 401 186 455 401 455 401 455 401 401 290\n",
      " 401 577 770 499 992  83 259 290 985 985 401 218 995 499 401 364  10 149\n",
      "  90 120 639  10 342 293 531 479 120 425 253 382 615 615 619 909 427 138]\n"
     ]
    }
   ],
   "source": [
    "print(flat_array.shape)\n",
    "print(len(sift_list[0]))\n",
    "print((cluster_list[0])) # returns for image 1, which cluster labels it aligns with"
   ]
  },
  {
   "cell_type": "code",
   "execution_count": 18,
   "metadata": {},
   "outputs": [],
   "source": [
    "str_list = []\n",
    "for index, cluster in enumerate(cluster_list):\n",
    "    local_string = \"\"\n",
    "    for x in range(len(cluster)):\n",
    "        local_string += str(cluster[x]) + \" \"\n",
    "    str_list.append(local_string)\n",
    "    \n",
    "    "
   ]
  },
  {
   "cell_type": "code",
   "execution_count": 19,
   "metadata": {},
   "outputs": [
    {
     "data": {
      "text/plain": [
       "'493 929 991 383 884 105 197 556 398 848 656 218 656 213 656 860 444 987 604 444 511 292 292 180 180 808 292 884 902 105 373 398 398 656 398 398 933 663 30 830 239 239 239 407 831 396 279 398 126 72 400 407 926 34 86 951 867 815 867 156 72 396 407 249 633 533 11 951 569 160 333 272 605 328 941 888 381 235 622 636 566 815 239 822 633 636 229 951 120 301 864 173 770 708 186 476 992 522 989 19 898 218 401 724 530 191 169 401 169 333 261 78 333 603 233 985 78 273 233 124 290 499 845 218 218 218 499 218 958 476 338 708 119 362 749 401 863 985 35 985 119 455 628 476 995 91 249 66 573 107 524 390 865 619 867 865 618 951 959 443 742 695 15 120 156 864 156 156 951 864 633 633 430 156 814 185 618 618 172 258 793 407 644 633 325 314 633 22 22 615 615 695 425 618 796 748 618 430 425 253 468 523 531 657 239 107 573 870 961 830 380 977 817 148 624 882 977 437 817 817 653 726 729 745 979 601 340 861 711 331 926 120 120 569 939 124 781 41 577 499 845 499 338 285 78 455 218 455 184 398 290 144 985 552 985 754 985 552 273 148 401 186 455 401 455 401 455 401 401 290 401 577 770 499 992 83 259 290 985 985 401 218 995 499 401 364 10 149 90 120 639 10 342 293 531 479 120 425 253 382 615 615 619 909 427 138 '"
      ]
     },
     "execution_count": 19,
     "metadata": {},
     "output_type": "execute_result"
    }
   ],
   "source": [
    "str_list[0]"
   ]
  },
  {
   "cell_type": "code",
   "execution_count": 20,
   "metadata": {},
   "outputs": [],
   "source": [
    "from sklearn.feature_extraction.text import TfidfVectorizer\n",
    "#https://scikit-learn.org/stable/modules/generated/sklearn.feature_extraction.text.TfidfVectorizer.html"
   ]
  },
  {
   "cell_type": "code",
   "execution_count": 21,
   "metadata": {},
   "outputs": [],
   "source": [
    "vectorizer = TfidfVectorizer()\n"
   ]
  },
  {
   "cell_type": "code",
   "execution_count": null,
   "metadata": {},
   "outputs": [],
   "source": []
  }
 ],
 "metadata": {
  "kernelspec": {
   "display_name": "Python 3",
   "language": "python",
   "name": "python3"
  },
  "language_info": {
   "codemirror_mode": {
    "name": "ipython",
    "version": 3
   },
   "file_extension": ".py",
   "mimetype": "text/x-python",
   "name": "python",
   "nbconvert_exporter": "python",
   "pygments_lexer": "ipython3",
   "version": "3.10.12"
  }
 },
 "nbformat": 4,
 "nbformat_minor": 2
}
