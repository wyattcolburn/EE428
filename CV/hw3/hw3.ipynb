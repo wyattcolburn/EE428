{
 "cells": [
  {
   "cell_type": "code",
   "execution_count": null,
   "metadata": {},
   "outputs": [],
   "source": [
    "import os\n",
    "if not os.path.exists('san_rafael'):\n",
    "    !wget -O san_rafael.zip https://www.dropbox.com/scl/fi/pyl1h8g56xdp74568aizj/san_rafael.zip?rlkey=kvfzhierbe938lt4vdgjx8mv6&dl=1\n",
    "    !unzip san_rafael.zip"
   ]
  }
 ],
 "metadata": {
  "kernelspec": {
   "display_name": ".venv",
   "language": "python",
   "name": "python3"
  },
  "language_info": {
   "name": "python",
   "version": "3.9.6"
  }
 },
 "nbformat": 4,
 "nbformat_minor": 2
}
