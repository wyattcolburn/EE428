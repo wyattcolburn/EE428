{
  "cells": [
    {
      "cell_type": "markdown",
      "metadata": {
        "id": "JvzVrY3fiJd3"
      },
      "source": [
        "# How to use a Python notebook\n",
        "\n",
        "* `Shift-Enter` to run the current cell and move to the next one\n",
        "* You can add code or text cells\n",
        "* The result of the last line in each block will be printed out, unless it is an assignment\n",
        "\n",
        "Remember -- your variables persist as you move between cells!  Be careful about moving backward in the code -- you might enter an unexpected state where your variables are not initialized properly.  If you are seeing strange code behavior, try restarting the kernel and running the notebook again."
      ]
    },
    {
      "cell_type": "markdown",
      "metadata": {
        "id": "KA_daM-Vdp7j"
      },
      "source": [
        "# Use list iteration rather than indexing\n",
        "\n",
        "Rather than iterating through a list using `range(len(list))`, simply iterate on the list directly."
      ]
    },
    {
      "cell_type": "code",
      "execution_count": 1,
      "metadata": {
        "colab": {
          "base_uri": "https://localhost:8080/"
        },
        "id": "KMU0ZHcmebPb",
        "outputId": "fc16ec78-f154-46f9-91cb-a3a510c8a67b"
      },
      "outputs": [
        {
          "data": {
            "text/plain": [
              "['apple', 'orange', 'guava', 'cherry']"
            ]
          },
          "execution_count": 1,
          "metadata": {},
          "output_type": "execute_result"
        }
      ],
      "source": [
        "fruits = ['apple','orange','guava','cherry']\n",
        "fruits"
      ]
    },
    {
      "cell_type": "markdown",
      "metadata": {
        "id": "525ANp1yjRaF"
      },
      "source": [
        "❌"
      ]
    },
    {
      "cell_type": "code",
      "execution_count": 2,
      "metadata": {
        "colab": {
          "base_uri": "https://localhost:8080/"
        },
        "id": "yG036DfydnnJ",
        "outputId": "1c0d9f46-df53-41a5-9e36-3e43ac37cf3b"
      },
      "outputs": [
        {
          "name": "stdout",
          "output_type": "stream",
          "text": [
            "apple\n",
            "orange\n",
            "guava\n",
            "cherry\n"
          ]
        }
      ],
      "source": [
        "for i in range(len(fruits)):\n",
        "  fruit = fruits[i]\n",
        "  print(fruit)"
      ]
    },
    {
      "cell_type": "markdown",
      "metadata": {
        "id": "KRnt5DoMjTfC"
      },
      "source": [
        "✅"
      ]
    },
    {
      "cell_type": "code",
      "execution_count": 3,
      "metadata": {
        "colab": {
          "base_uri": "https://localhost:8080/"
        },
        "id": "Rlf2t--fe2uK",
        "outputId": "f2683626-271b-4439-aec0-87718e18819f"
      },
      "outputs": [
        {
          "name": "stdout",
          "output_type": "stream",
          "text": [
            "apple\n",
            "orange\n",
            "guava\n",
            "cherry\n"
          ]
        }
      ],
      "source": [
        "for fruit in fruits:\n",
        "  print(fruit)"
      ]
    },
    {
      "cell_type": "markdown",
      "metadata": {
        "id": "7S0LdrDze9zg"
      },
      "source": [
        "If you need the index of the item, use `enumerate`."
      ]
    },
    {
      "cell_type": "code",
      "execution_count": 4,
      "metadata": {
        "colab": {
          "base_uri": "https://localhost:8080/"
        },
        "id": "uBMw03FzeVRJ",
        "outputId": "ebbf11a1-250a-494d-ff33-d62343b0ba3b"
      },
      "outputs": [
        {
          "name": "stdout",
          "output_type": "stream",
          "text": [
            "0 apple\n",
            "1 orange\n",
            "2 guava\n",
            "3 cherry\n"
          ]
        }
      ],
      "source": [
        "for i,fruit in enumerate(fruits):\n",
        "  print(i,fruit)"
      ]
    },
    {
      "cell_type": "markdown",
      "metadata": {
        "id": "MEECZX_oeriq"
      },
      "source": [
        "# Use list comprehensions rather than for loops to build lists\n",
        "\n",
        "The list comprehension syntax is much shorter and cleaner than building a list using a for loop."
      ]
    },
    {
      "cell_type": "markdown",
      "metadata": {
        "id": "53afwnrpjgF8"
      },
      "source": [
        "❌"
      ]
    },
    {
      "cell_type": "code",
      "execution_count": 5,
      "metadata": {
        "colab": {
          "base_uri": "https://localhost:8080/"
        },
        "id": "E8RdGYdmfEHS",
        "outputId": "948c262f-ffcd-4bba-e0d0-c08f0f58f27a"
      },
      "outputs": [
        {
          "data": {
            "text/plain": [
              "['a', 'o', 'g', 'c']"
            ]
          },
          "execution_count": 5,
          "metadata": {},
          "output_type": "execute_result"
        }
      ],
      "source": [
        "first_letter = []\n",
        "for fruit in fruits:\n",
        "  first_letter.append(fruit[0])\n",
        "first_letter"
      ]
    },
    {
      "cell_type": "markdown",
      "metadata": {
        "id": "cn6-S-Wnjier"
      },
      "source": [
        "✅"
      ]
    },
    {
      "cell_type": "code",
      "execution_count": 6,
      "metadata": {
        "colab": {
          "base_uri": "https://localhost:8080/"
        },
        "id": "p88xoWbjfeAx",
        "outputId": "7153c00c-53e7-451b-c606-5a3a46548beb"
      },
      "outputs": [
        {
          "data": {
            "text/plain": [
              "['a', 'o', 'g', 'c']"
            ]
          },
          "execution_count": 6,
          "metadata": {},
          "output_type": "execute_result"
        }
      ],
      "source": [
        "first_letter = [fruit[0] for fruit in fruits]\n",
        "first_letter"
      ]
    },
    {
      "cell_type": "markdown",
      "metadata": {
        "id": "ds0j8T5cvaw1"
      },
      "source": [
        "# Use `map` to apply an operation to a list\n",
        "\n",
        "If you need to do something to each item in a list, use `map` rather than a for loop."
      ]
    },
    {
      "cell_type": "markdown",
      "metadata": {
        "id": "S9AxPp38vmTx"
      },
      "source": [
        "❌"
      ]
    },
    {
      "cell_type": "code",
      "execution_count": 6,
      "metadata": {
        "colab": {
          "base_uri": "https://localhost:8080/"
        },
        "id": "nm1qlBEovaEA",
        "outputId": "71c4d686-b72f-4996-feca-46744cc190e6"
      },
      "outputs": [
        {
          "data": {
            "text/plain": [
              "['a', 'o', 'g', 'c']"
            ]
          },
          "execution_count": 6,
          "metadata": {},
          "output_type": "execute_result"
        }
      ],
      "source": [
        "first_letter = []\n",
        "for fruit in fruits:\n",
        "  first_letter.append(fruit[0])\n",
        "first_letter"
      ]
    },
    {
      "cell_type": "markdown",
      "metadata": {
        "id": "_7myYePMvnVU"
      },
      "source": [
        "✅"
      ]
    },
    {
      "cell_type": "code",
      "execution_count": 7,
      "metadata": {
        "colab": {
          "base_uri": "https://localhost:8080/"
        },
        "id": "7rKYbXNyvoVR",
        "outputId": "febd7d44-06b7-4611-cbe1-a4d0e79f00b8"
      },
      "outputs": [
        {
          "data": {
            "text/plain": [
              "['a', 'o', 'g', 'c']"
            ]
          },
          "execution_count": 7,
          "metadata": {},
          "output_type": "execute_result"
        }
      ],
      "source": [
        "def get_first_letter(word):\n",
        "  return word[0]\n",
        "first_letter = list(map(get_first_letter,fruits))\n",
        "first_letter"
      ]
    },
    {
      "cell_type": "markdown",
      "metadata": {
        "id": "u_X9CPWkv9cV"
      },
      "source": [
        "With a `lambda` function:"
      ]
    },
    {
      "cell_type": "code",
      "execution_count": 8,
      "metadata": {
        "colab": {
          "base_uri": "https://localhost:8080/"
        },
        "id": "TogD1Fpfv0hH",
        "outputId": "9dfbb0ee-fc27-4621-c2fe-2aa91a25b9a4"
      },
      "outputs": [
        {
          "data": {
            "text/plain": [
              "['a', 'o', 'g', 'c']"
            ]
          },
          "execution_count": 8,
          "metadata": {},
          "output_type": "execute_result"
        }
      ],
      "source": [
        "first_letter = list(map(lambda x:x[0],fruits))\n",
        "first_letter"
      ]
    },
    {
      "cell_type": "markdown",
      "metadata": {
        "id": "iwXkRkSwv-8R"
      },
      "source": [
        "I also like this style which I think is more readable:"
      ]
    },
    {
      "cell_type": "code",
      "execution_count": 9,
      "metadata": {
        "colab": {
          "base_uri": "https://localhost:8080/"
        },
        "id": "iadGvUhpv3g0",
        "outputId": "6d9e0c10-7ff2-4110-e703-41ac4c4d6dcb"
      },
      "outputs": [
        {
          "data": {
            "text/plain": [
              "['a', 'o', 'g', 'c']"
            ]
          },
          "execution_count": 9,
          "metadata": {},
          "output_type": "execute_result"
        }
      ],
      "source": [
        "first_letter = [fruit[0] for fruit in fruits]\n",
        "first_letter"
      ]
    },
    {
      "cell_type": "markdown",
      "metadata": {
        "id": "Z_UjDzDawFAA"
      },
      "source": [
        "You can even include a conditional in the list comprehension:"
      ]
    },
    {
      "cell_type": "code",
      "execution_count": 10,
      "metadata": {
        "colab": {
          "base_uri": "https://localhost:8080/"
        },
        "id": "wjZD4yO8wHfQ",
        "outputId": "2105d761-5882-4330-e57b-bc78b8c08bfe"
      },
      "outputs": [
        {
          "data": {
            "text/plain": [
              "['a', 'g', 'c']"
            ]
          },
          "execution_count": 10,
          "metadata": {},
          "output_type": "execute_result"
        }
      ],
      "source": [
        "first_letter = [fruit[0] for fruit in fruits if fruit != 'orange']\n",
        "first_letter"
      ]
    },
    {
      "cell_type": "markdown",
      "metadata": {
        "id": "Mtb4ePSlzn0C"
      },
      "source": [
        "However it is not good practice to use a list comprehension when youre intent is not to create a list, as in this example:"
      ]
    },
    {
      "cell_type": "code",
      "execution_count": 11,
      "metadata": {
        "colab": {
          "base_uri": "https://localhost:8080/"
        },
        "id": "zjLW6AoGzm37",
        "outputId": "4adcc885-92ba-4451-909a-bad01fed2828"
      },
      "outputs": [
        {
          "name": "stdout",
          "output_type": "stream",
          "text": [
            "apple\n",
            "orange\n",
            "guava\n",
            "cherry\n"
          ]
        },
        {
          "data": {
            "text/plain": [
              "[None, None, None, None]"
            ]
          },
          "execution_count": 11,
          "metadata": {},
          "output_type": "execute_result"
        }
      ],
      "source": [
        "[print(fruit) for fruit in fruits]"
      ]
    },
    {
      "cell_type": "markdown",
      "metadata": {
        "id": "gQDGd7fh0Peg"
      },
      "source": [
        "Here we are needlessly allocating a list filled with `None`.  It is more readable to simply use a for loop here:"
      ]
    },
    {
      "cell_type": "code",
      "execution_count": 12,
      "metadata": {
        "colab": {
          "base_uri": "https://localhost:8080/"
        },
        "id": "t7rkGSY-0dPC",
        "outputId": "e5c1c5dd-986f-47ea-c682-2e67c82d2fe0"
      },
      "outputs": [
        {
          "name": "stdout",
          "output_type": "stream",
          "text": [
            "apple\n",
            "orange\n",
            "guava\n",
            "cherry\n"
          ]
        }
      ],
      "source": [
        "for fruit in fruits:\n",
        "  print(fruit)"
      ]
    },
    {
      "cell_type": "markdown",
      "metadata": {
        "id": "iFZmt2n6wMXW"
      },
      "source": [
        "# Advanced: generator versus list\n",
        "\n",
        "Sometimes actually you don't need to store the result of the transformation.  In this case you can use a generator, which will produce the transformed list items on demand."
      ]
    },
    {
      "cell_type": "code",
      "execution_count": 13,
      "metadata": {
        "colab": {
          "base_uri": "https://localhost:8080/"
        },
        "id": "PfRnRDNfwLhg",
        "outputId": "514580b3-0d2f-4c78-a07c-b1c3d5b4ca56"
      },
      "outputs": [
        {
          "data": {
            "text/plain": [
              "<generator object <genexpr> at 0x7cc0cc83f5e0>"
            ]
          },
          "execution_count": 13,
          "metadata": {},
          "output_type": "execute_result"
        }
      ],
      "source": [
        "first_letter = (fruit[0] for fruit in fruits if fruit != 'orange')\n",
        "first_letter"
      ]
    },
    {
      "cell_type": "code",
      "execution_count": 14,
      "metadata": {
        "colab": {
          "base_uri": "https://localhost:8080/"
        },
        "id": "gbD4TAT4wRGz",
        "outputId": "06852291-8d93-4335-d49c-e01a1372ead1"
      },
      "outputs": [
        {
          "data": {
            "text/plain": [
              "<map at 0x7cc0cc678640>"
            ]
          },
          "execution_count": 14,
          "metadata": {},
          "output_type": "execute_result"
        }
      ],
      "source": [
        "first_letter = map(get_first_letter,fruits)\n",
        "first_letter"
      ]
    },
    {
      "cell_type": "code",
      "execution_count": 15,
      "metadata": {
        "colab": {
          "base_uri": "https://localhost:8080/"
        },
        "id": "NjDZbLeGwTia",
        "outputId": "22e36f86-7553-4bce-b74b-5c3ed92fca91"
      },
      "outputs": [
        {
          "name": "stdout",
          "output_type": "stream",
          "text": [
            "a\n",
            "o\n",
            "g\n",
            "c\n"
          ]
        }
      ],
      "source": [
        "for w in first_letter:\n",
        "  print(w)"
      ]
    },
    {
      "cell_type": "markdown",
      "metadata": {
        "id": "bBobV-MOfkg5"
      },
      "source": [
        "# Don't initialize variables unnecessarily\n",
        "\n",
        "If you have coded in other languages like Javascript, Java, or C/C++, you may be accustomed to initializing all variables before they are used.  Often this is not necessary in Python (which doesn't have static typing, anyway)."
      ]
    },
    {
      "cell_type": "markdown",
      "metadata": {
        "id": "Y-2t36G7jtha"
      },
      "source": [
        "❌"
      ]
    },
    {
      "cell_type": "code",
      "execution_count": 16,
      "metadata": {
        "colab": {
          "base_uri": "https://localhost:8080/"
        },
        "id": "UJr303vFfncK",
        "outputId": "89f583a2-08dc-4f6b-b020-1abc27bc8dcb"
      },
      "outputs": [
        {
          "name": "stdout",
          "output_type": "stream",
          "text": [
            "0\n",
            "1\n",
            "1\n",
            "2\n"
          ]
        }
      ],
      "source": [
        "i = 0 # there is no need to initialize i or j here\n",
        "j = 0\n",
        "for i in range(2):\n",
        "  for j in range(2):\n",
        "    print(i+j)"
      ]
    },
    {
      "cell_type": "markdown",
      "metadata": {
        "id": "_rlPlBXo1jHR"
      },
      "source": [
        "❌"
      ]
    },
    {
      "cell_type": "code",
      "execution_count": 17,
      "metadata": {
        "colab": {
          "base_uri": "https://localhost:8080/"
        },
        "id": "pPczazaq1kNK",
        "outputId": "93a2ca60-0730-47c6-ca76-13dcdef3f8c9"
      },
      "outputs": [
        {
          "data": {
            "text/plain": [
              "['d', 'c', 'o']"
            ]
          },
          "execution_count": 17,
          "metadata": {},
          "output_type": "execute_result"
        }
      ],
      "source": [
        "animals = ['dog','cat','orangutan']\n",
        "animal_first_letters = [] # no need to create an empty list here\n",
        "animal_first_letters = [animal[0] for animal in animals]\n",
        "animal_first_letters"
      ]
    },
    {
      "cell_type": "markdown",
      "metadata": {
        "id": "DAE3zQQLf7j3"
      },
      "source": [
        "# Format strings the Python 3 way\n",
        "\n",
        "In Python 2 you would format strings using C-style format strings.  Python 3 introduce the f-string format which is much more readable."
      ]
    },
    {
      "cell_type": "markdown",
      "metadata": {
        "id": "bAYl7sev2Bba"
      },
      "source": [
        "❌"
      ]
    },
    {
      "cell_type": "code",
      "execution_count": 18,
      "metadata": {
        "id": "csYBWUnm1-1-"
      },
      "outputs": [
        {
          "name": "stdout",
          "output_type": "stream",
          "text": [
            "alice likes apple\n",
            "bob likes orange\n",
            "clara likes guava\n"
          ]
        }
      ],
      "source": [
        "names = ['alice','bob','clara']\n",
        "for name,fruit in zip(names,fruits):\n",
        "  s = '%s likes %s'%(name,fruit)\n",
        "  print(s)"
      ]
    },
    {
      "cell_type": "markdown",
      "metadata": {
        "id": "J03ObMDU2J_F"
      },
      "source": [
        "✅"
      ]
    },
    {
      "cell_type": "code",
      "execution_count": null,
      "metadata": {
        "id": "D646lmeCgZ_I"
      },
      "outputs": [],
      "source": [
        "names = ['alice','bob','clara']\n",
        "for name,fruit in zip(names,fruits):\n",
        "  s = f'{name} likes {fruit}'\n",
        "  print(s)"
      ]
    },
    {
      "cell_type": "markdown",
      "metadata": {
        "id": "0jBqfF7Vgjkh"
      },
      "source": [
        "### You can even run Python code inside of the curly brackets!"
      ]
    },
    {
      "cell_type": "code",
      "execution_count": 20,
      "metadata": {
        "id": "blxUeNNcgnrh"
      },
      "outputs": [
        {
          "name": "stdout",
          "output_type": "stream",
          "text": [
            "a likes a\n",
            "b likes o\n",
            "c likes g\n"
          ]
        }
      ],
      "source": [
        "names = ['alice','bob','clara']\n",
        "for name,fruit in zip(names,fruits):\n",
        "  s = f'{name[0]} likes {fruit[0]}'\n",
        "  print(s)"
      ]
    },
    {
      "cell_type": "code",
      "execution_count": 21,
      "metadata": {
        "id": "LePGG1zShtu9"
      },
      "outputs": [
        {
          "name": "stdout",
          "output_type": "stream",
          "text": [
            "0.0\n",
            "0.3333333333333333\n",
            "0.6666666666666666\n",
            "1.0\n",
            "1.3333333333333333\n",
            "1.6666666666666667\n",
            "2.0\n",
            "2.3333333333333335\n",
            "2.6666666666666665\n",
            "3.0\n"
          ]
        }
      ],
      "source": [
        "for i in range(10):\n",
        "  s = f'{i/3}'\n",
        "  print(s)"
      ]
    },
    {
      "cell_type": "markdown",
      "metadata": {
        "id": "kN8HnIupj7Rf"
      },
      "source": [
        "## Formatting numbers:"
      ]
    },
    {
      "cell_type": "code",
      "execution_count": 22,
      "metadata": {
        "id": "ArZbcjQFh1eF"
      },
      "outputs": [
        {
          "name": "stdout",
          "output_type": "stream",
          "text": [
            "0.00\n",
            "0.33\n",
            "0.67\n",
            "1.00\n",
            "1.33\n",
            "1.67\n",
            "2.00\n",
            "2.33\n",
            "2.67\n",
            "3.00\n"
          ]
        }
      ],
      "source": [
        "for i in range(10):\n",
        "  s = f'{i/3:.2f}'\n",
        "  print(s)"
      ]
    },
    {
      "cell_type": "markdown",
      "metadata": {
        "id": "rjsShqXgg6GP"
      },
      "source": [
        "# Advanced: type specification\n",
        "\n",
        "Python 3.5 introduced type hints, which allow you to specify the argument and result types of functions."
      ]
    },
    {
      "cell_type": "code",
      "execution_count": 23,
      "metadata": {
        "id": "2BnHze_Ag8FJ"
      },
      "outputs": [
        {
          "data": {
            "text/plain": [
              "8"
            ]
          },
          "execution_count": 23,
          "metadata": {},
          "output_type": "execute_result"
        }
      ],
      "source": [
        "def add(x: int, y: int) -> int:\n",
        "  return x + y\n",
        "\n",
        "add(3,5)"
      ]
    },
    {
      "cell_type": "markdown",
      "metadata": {
        "id": "LR8x8beShO34"
      },
      "source": [
        "Python doesn't actually enforce the type specifications.  But they can be checked by an external tool like an IDE, for example."
      ]
    },
    {
      "cell_type": "code",
      "execution_count": 24,
      "metadata": {
        "id": "-2NCe0FChGg4"
      },
      "outputs": [
        {
          "data": {
            "text/plain": [
              "9.0"
            ]
          },
          "execution_count": 24,
          "metadata": {},
          "output_type": "execute_result"
        }
      ],
      "source": [
        "add(3.,6.)"
      ]
    },
    {
      "cell_type": "markdown",
      "metadata": {
        "id": "7zLNOMyxGGHX"
      },
      "source": [
        "# Exercises\n",
        "\n",
        "The following code makes a list of all the lowercased words in the sonnet and counts how many time seach word occurs.  Rewrite the code to be as compact and Pythonic as possible."
      ]
    },
    {
      "cell_type": "code",
      "execution_count": 26,
      "metadata": {
        "id": "rGN3grjPGHIZ"
      },
      "outputs": [],
      "source": [
        "sonnet = \"\"\"Shall I compare thee to a summer’s day?\n",
        "Thou art more lovely and more temperate.\n",
        "Rough winds do shake the darling buds of May,\n",
        "And summer’s lease hath all too short a date.\"\"\""
      ]
    },
    {
      "cell_type": "code",
      "execution_count": 43,
      "metadata": {
        "id": "5rL-r4tLG33R"
      },
      "outputs": [
        {
          "data": {
            "text/plain": [
              "['shall',\n",
              " 'i',\n",
              " 'compare',\n",
              " 'thee',\n",
              " 'to',\n",
              " 'a',\n",
              " 'summer’s',\n",
              " 'day?',\n",
              " 'thou',\n",
              " 'art',\n",
              " 'more',\n",
              " 'lovely',\n",
              " 'and',\n",
              " 'more',\n",
              " 'temperate.',\n",
              " 'rough',\n",
              " 'winds',\n",
              " 'do',\n",
              " 'shake',\n",
              " 'the',\n",
              " 'darling',\n",
              " 'buds',\n",
              " 'of',\n",
              " 'may,',\n",
              " 'and',\n",
              " 'summer’s',\n",
              " 'lease',\n",
              " 'hath',\n",
              " 'all',\n",
              " 'too',\n",
              " 'short',\n",
              " 'a']"
            ]
          },
          "execution_count": 43,
          "metadata": {},
          "output_type": "execute_result"
        }
      ],
      "source": [
        "words = []\n",
        "word = ''\n",
        "for i in range(len(sonnet)):\n",
        "  letter = sonnet[i].lower()\n",
        "  if letter == ' ' or letter == '\\n':\n",
        "    words.append(word)\n",
        "    word = ''\n",
        "  else:\n",
        "    word += letter\n",
        "words\n"
      ]
    },
    {
      "cell_type": "code",
      "execution_count": 47,
      "metadata": {},
      "outputs": [
        {
          "data": {
            "text/plain": [
              "['shall',\n",
              " 'i',\n",
              " 'compare',\n",
              " 'thee',\n",
              " 'to',\n",
              " 'a',\n",
              " 'summer’s',\n",
              " 'day?',\n",
              " 'thou',\n",
              " 'art',\n",
              " 'more',\n",
              " 'lovely',\n",
              " 'and',\n",
              " 'more',\n",
              " 'temperate.',\n",
              " 'rough',\n",
              " 'winds',\n",
              " 'do',\n",
              " 'shake',\n",
              " 'the',\n",
              " 'darling',\n",
              " 'buds',\n",
              " 'of',\n",
              " 'may,',\n",
              " 'and',\n",
              " 'summer’s',\n",
              " 'lease',\n",
              " 'hath',\n",
              " 'all',\n",
              " 'too',\n",
              " 'short',\n",
              " 'a',\n",
              " 'date.']"
            ]
          },
          "execution_count": 47,
          "metadata": {},
          "output_type": "execute_result"
        }
      ],
      "source": [
        "words = []\n",
        "words = sonnet.lower().split()\n",
        "words"
      ]
    },
    {
      "cell_type": "code",
      "execution_count": 48,
      "metadata": {
        "id": "FVS-vtcTHWPg"
      },
      "outputs": [
        {
          "data": {
            "text/plain": [
              "{'shall': 1,\n",
              " 'i': 1,\n",
              " 'compare': 1,\n",
              " 'thee': 1,\n",
              " 'to': 1,\n",
              " 'a': 2,\n",
              " 'summer’s': 2,\n",
              " 'day?': 1,\n",
              " 'thou': 1,\n",
              " 'art': 1,\n",
              " 'more': 2,\n",
              " 'lovely': 1,\n",
              " 'and': 2,\n",
              " 'temperate.': 1,\n",
              " 'rough': 1,\n",
              " 'winds': 1,\n",
              " 'do': 1,\n",
              " 'shake': 1,\n",
              " 'the': 1,\n",
              " 'darling': 1,\n",
              " 'buds': 1,\n",
              " 'of': 1,\n",
              " 'may,': 1,\n",
              " 'lease': 1,\n",
              " 'hath': 1,\n",
              " 'all': 1,\n",
              " 'too': 1,\n",
              " 'short': 1,\n",
              " 'date.': 1}"
            ]
          },
          "execution_count": 48,
          "metadata": {},
          "output_type": "execute_result"
        }
      ],
      "source": [
        "word_counts = {}\n",
        "for i in range(len(words)):\n",
        "  word = words[i]\n",
        "  if word not in word_counts:\n",
        "    word_counts[word] = 1\n",
        "  else:\n",
        "    word_counts[word] += 1\n",
        "word_counts"
      ]
    },
    {
      "cell_type": "code",
      "execution_count": 74,
      "metadata": {},
      "outputs": [
        {
          "data": {
            "text/plain": [
              "Counter({'a': 2,\n",
              "         'summer’s': 2,\n",
              "         'more': 2,\n",
              "         'and': 2,\n",
              "         'shall': 1,\n",
              "         'i': 1,\n",
              "         'compare': 1,\n",
              "         'thee': 1,\n",
              "         'to': 1,\n",
              "         'day?': 1,\n",
              "         'thou': 1,\n",
              "         'art': 1,\n",
              "         'lovely': 1,\n",
              "         'temperate.': 1,\n",
              "         'rough': 1,\n",
              "         'winds': 1,\n",
              "         'do': 1,\n",
              "         'shake': 1,\n",
              "         'the': 1,\n",
              "         'darling': 1,\n",
              "         'buds': 1,\n",
              "         'of': 1,\n",
              "         'may,': 1,\n",
              "         'lease': 1,\n",
              "         'hath': 1,\n",
              "         'all': 1,\n",
              "         'too': 1,\n",
              "         'short': 1,\n",
              "         'date.': 1})"
            ]
          },
          "execution_count": 74,
          "metadata": {},
          "output_type": "execute_result"
        }
      ],
      "source": [
        "\n",
        "\n",
        "word_counts = Counter(words)\n",
        "word_counts"
      ]
    },
    {
      "cell_type": "markdown",
      "metadata": {
        "id": "PsBUDNRmSksv"
      },
      "source": [
        "The following code takes a list of numbers and\n",
        "* produces a list of Booleans indicating whether each number is odd\n",
        "* makes a list of just the odd numbers\n",
        "* prints whether each number is odd or even.\n",
        "Re-write the code to be more compact and Pythonic."
      ]
    },
    {
      "cell_type": "code",
      "execution_count": 57,
      "metadata": {
        "id": "H9if0SZwHMJ_"
      },
      "outputs": [
        {
          "data": {
            "text/plain": [
              "[True,\n",
              " True,\n",
              " True,\n",
              " False,\n",
              " True,\n",
              " True,\n",
              " False,\n",
              " False,\n",
              " False,\n",
              " True,\n",
              " True,\n",
              " True,\n",
              " True,\n",
              " True,\n",
              " False,\n",
              " True,\n",
              " True,\n",
              " True,\n",
              " False]"
            ]
          },
          "execution_count": 57,
          "metadata": {},
          "output_type": "execute_result"
        }
      ],
      "source": [
        "numbers = [3,57,923,402,15,345,2,456,678,453,23,455,7,5,44,3,345,555,566]\n",
        "\n",
        "is_odd = []\n",
        "for i in range(len(numbers)):\n",
        "  number = numbers[i]\n",
        "  is_odd.append(number % 2 == 1)\n",
        "is_odd"
      ]
    },
    {
      "cell_type": "code",
      "execution_count": 61,
      "metadata": {},
      "outputs": [
        {
          "data": {
            "text/plain": [
              "[True,\n",
              " True,\n",
              " True,\n",
              " False,\n",
              " True,\n",
              " True,\n",
              " False,\n",
              " False,\n",
              " False,\n",
              " True,\n",
              " True,\n",
              " True,\n",
              " True,\n",
              " True,\n",
              " False,\n",
              " True,\n",
              " True,\n",
              " True,\n",
              " False]"
            ]
          },
          "execution_count": 61,
          "metadata": {},
          "output_type": "execute_result"
        }
      ],
      "source": [
        "numbers = [3,57,923,402,15,345,2,456,678,453,23,455,7,5,44,3,345,555,566]\n",
        "is_odd = [number % 2 !=0 for number in numbers]\n",
        "is_odd\n",
        "\n"
      ]
    },
    {
      "cell_type": "code",
      "execution_count": 62,
      "metadata": {
        "id": "HqpB9iAXSU4C"
      },
      "outputs": [
        {
          "data": {
            "text/plain": [
              "[3, 57, 923, 15, 345, 453, 23, 455, 7, 5, 3, 345, 555]"
            ]
          },
          "execution_count": 62,
          "metadata": {},
          "output_type": "execute_result"
        }
      ],
      "source": [
        "odd_numbers = []\n",
        "for i in range(len(numbers)):\n",
        "  number = numbers[i]\n",
        "  if number % 2 == 1:\n",
        "    odd_numbers.append(number)\n",
        "odd_numbers"
      ]
    },
    {
      "cell_type": "code",
      "execution_count": 72,
      "metadata": {},
      "outputs": [
        {
          "data": {
            "text/plain": [
              "[3, 57, 923, 15, 345, 453, 23, 455, 7, 5, 3, 345, 555]"
            ]
          },
          "execution_count": 72,
          "metadata": {},
          "output_type": "execute_result"
        }
      ],
      "source": [
        "\n",
        "odd_numbers = [number for number in numbers if number % 2 != 0]\n",
        "odd_numbers"
      ]
    },
    {
      "cell_type": "code",
      "execution_count": 71,
      "metadata": {
        "id": "L6HxJmOOSh5m"
      },
      "outputs": [
        {
          "name": "stdout",
          "output_type": "stream",
          "text": [
            "3 is odd\n",
            "57 is odd\n",
            "923 is odd\n",
            "402 is even\n",
            "15 is odd\n",
            "345 is odd\n",
            "2 is even\n",
            "456 is even\n",
            "678 is even\n",
            "453 is odd\n",
            "23 is odd\n",
            "455 is odd\n",
            "7 is odd\n",
            "5 is odd\n",
            "44 is even\n",
            "3 is odd\n",
            "345 is odd\n",
            "555 is odd\n",
            "566 is even\n"
          ]
        }
      ],
      "source": [
        "for i in range(len(numbers)):\n",
        "  number = numbers[i]\n",
        "  if number % 2 == 0:\n",
        "    t = 'even'\n",
        "  else:\n",
        "    t = 'odd'\n",
        "  s = '%d is %s'%(number,t)\n",
        "  print(s)\n"
      ]
    },
    {
      "cell_type": "code",
      "execution_count": 91,
      "metadata": {
        "id": "Lzo9sIRTTAGD"
      },
      "outputs": [
        {
          "name": "stdout",
          "output_type": "stream",
          "text": [
            "3 is odd\n",
            "57 is odd\n",
            "923 is odd\n",
            "402 is even\n",
            "15 is odd\n",
            "345 is odd\n",
            "2 is even\n",
            "456 is even\n",
            "678 is even\n",
            "453 is odd\n",
            "23 is odd\n",
            "455 is odd\n",
            "7 is odd\n",
            "5 is odd\n",
            "44 is even\n",
            "3 is odd\n",
            "345 is odd\n",
            "555 is odd\n",
            "566 is even\n"
          ]
        }
      ],
      "source": [
        "\n",
        "s = [f'{number} is {\"even\" if number % 2 == 0 else \"odd\"}' for number in numbers]\n",
        "s #prints a list thou?\n",
        "\n",
        "for val in s: # print each value of list\n",
        "    print(val)"
      ]
    },
    {
      "cell_type": "code",
      "execution_count": null,
      "metadata": {},
      "outputs": [],
      "source": []
    }
  ],
  "metadata": {
    "colab": {
      "provenance": []
    },
    "kernelspec": {
      "display_name": "Python 3",
      "name": "python3"
    },
    "language_info": {
      "codemirror_mode": {
        "name": "ipython",
        "version": 3
      },
      "file_extension": ".py",
      "mimetype": "text/x-python",
      "name": "python",
      "nbconvert_exporter": "python",
      "pygments_lexer": "ipython3",
      "version": "3.12.3"
    }
  },
  "nbformat": 4,
  "nbformat_minor": 0
}
