{
 "cells": [
  {
   "cell_type": "markdown",
   "metadata": {},
   "source": [
    "## Lab 4.1: Feature Matching - Exercises"
   ]
  },
  {
   "cell_type": "markdown",
   "metadata": {},
   "source": [
    "1. Load images ```baker1.jpg``` and ```baker2.jpg``` and convert to grayscale.  Detect and match SIFT features between them and plot the results.\n",
    "\n",
    "Try different settings for ```max_ratio``` to see which seems to produce the best set of matches.\n",
    "\n",
    "*Note: Set ```only_matches=True``` for ```plot_matches``` so that the keypoints don't obscure the images.*"
   ]
  },
  {
   "cell_type": "code",
   "execution_count": null,
   "metadata": {},
   "outputs": [],
   "source": []
  },
  {
   "cell_type": "markdown",
   "metadata": {},
   "source": [
    "2. The image ```stereo.jpg``` contains a stereo pair image of an asteroid ([Bennu](https://www.asteroidmission.org/candidate-sample-sites/kingfisher/stereopair_kingfisher/)).  Load the image and split it into two images (```left``` and ```right```).  \n",
    "\n",
    "Detect and match SIFT features between the two images and show the results.\n",
    "\n",
    "In a rectified stereo pair, the movement between the images should be completely horizontal.  Filter out any matches that have vertical movement and show the results.\n",
    "\n",
    "*Note: because there are a lot of matches, you might want to show only 10% or so of them.*"
   ]
  },
  {
   "cell_type": "code",
   "execution_count": null,
   "metadata": {},
   "outputs": [],
   "source": []
  }
 ],
 "metadata": {
  "kernelspec": {
   "display_name": ".venv",
   "language": "python",
   "name": "python3"
  },
  "language_info": {
   "codemirror_mode": {
    "name": "ipython",
    "version": 3
   },
   "file_extension": ".py",
   "mimetype": "text/x-python",
   "name": "python",
   "nbconvert_exporter": "python",
   "pygments_lexer": "ipython3",
   "version": "3.12.7"
  }
 },
 "nbformat": 4,
 "nbformat_minor": 2
}
