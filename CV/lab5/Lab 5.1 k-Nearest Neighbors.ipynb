{
 "cells": [
  {
   "cell_type": "markdown",
   "metadata": {},
   "source": [
    "# k-Nearest Neighbors"
   ]
  },
  {
   "cell_type": "markdown",
   "metadata": {},
   "source": [
    "In this lab you will explore tuning a k-Nearest Neighbors model for image classification.\n",
    "\n",
    "We will use the [Imagenette dataset](https://github.com/fastai/imagenette), a small subset of the larger ImageNet dataset.  Download the 160 px version and extract it in the same folder as this notebook."
   ]
  },
  {
   "cell_type": "code",
   "execution_count": 37,
   "metadata": {},
   "outputs": [],
   "source": [
    "import glob\n",
    "import imageio\n",
    "import skimage\n",
    "from matplotlib import pyplot as plt\n",
    "import numpy as np\n",
    "from sklearn.neighbors import KNeighborsClassifier\n",
    "from sklearn.metrics import accuracy_score\n",
    "from collections import Counter\n"
   ]
  },
  {
   "cell_type": "markdown",
   "metadata": {},
   "source": [
    "Here is some code to load the dataset and remap the labels to nicer names."
   ]
  },
  {
   "cell_type": "code",
   "execution_count": 30,
   "metadata": {},
   "outputs": [],
   "source": [
    "label_map = {\n",
    "    'n01440764':'fish',\n",
    "    'n02102040':'dog',\n",
    "    'n02979186':'cassette_tape',\n",
    "    'n03000684':'chain_saw',\n",
    "    'n03028079':'church',\n",
    "    'n03394916':'french_horn',\n",
    "    'n03417042':'garbage_truck',\n",
    "    'n03425413':'gas_station',\n",
    "    'n03445777':'golf_ball',\n",
    "    'n03888257':'parachute'\n",
    "}"
   ]
  },
  {
   "cell_type": "code",
   "execution_count": 32,
   "metadata": {},
   "outputs": [
    {
     "name": "stderr",
     "output_type": "stream",
     "text": [
      "/tmp/ipykernel_1257/3070947039.py:7: DeprecationWarning: Starting with ImageIO v3 the behavior of this function will switch to that of iio.v3.imread. To keep the current behavior (and make this warning disappear) use `import imageio.v2 as imageio` or call `imageio.v2.imread` directly.\n",
      "  image = imageio.imread(path)\n"
     ]
    },
    {
     "name": "stdout",
     "output_type": "stream",
     "text": [
      "len of train images 9469\n"
     ]
    }
   ],
   "source": [
    "def load_split(split):\n",
    "    images = []\n",
    "    labels = []\n",
    "    for key,value in label_map.items():\n",
    "        image_paths = sorted(glob.glob(f'imagenette2-160/{split}/{key}/*.JPEG'))\n",
    "        for path in image_paths:\n",
    "            image = imageio.imread(path)\n",
    "            if len(image.shape)>2:\n",
    "                image = skimage.color.rgb2gray(image)\n",
    "            if image.shape[0] > 160:\n",
    "                image = image[image.shape[0]//2-80:image.shape[0]//2+80,:]\n",
    "            if image.shape[1] > 160:\n",
    "                image = image[:,image.shape[1]//2-80:image.shape[1]//2+80]\n",
    "            images.append(image)\n",
    "            labels.append(value)\n",
    "    return images, labels\n",
    "\n",
    "train_images, train_labels = load_split('train')\n",
    "\n",
    "val_images, val_labels = load_split('val')"
   ]
  },
  {
   "cell_type": "markdown",
   "metadata": {},
   "source": [
    "Now what we have are lists `train_images` and `train_labels` containing the images and labels for the training set, and the same for the validation set."
   ]
  },
  {
   "cell_type": "markdown",
   "metadata": {},
   "source": [
    "2. Compute a HOG descriptor for each image to make two lists, `train_descriptors` and `val_descriptors` (```skimage.features.hog```)."
   ]
  },
  {
   "cell_type": "code",
   "execution_count": 33,
   "metadata": {},
   "outputs": [],
   "source": [
    "def hog_descriptors(images):\n",
    "    \n",
    "    descriptors = []\n",
    "    for image in images:\n",
    "        hog_descriptor = skimage.feature.hog(image)\n",
    "        descriptors.append(hog_descriptor) \n",
    "    return np.array(descriptors)\n",
    "\n",
    "train_descriptors = hog_descriptors(train_images)\n",
    "val_descriptors = hog_descriptors(val_images)\n"
   ]
  },
  {
   "cell_type": "code",
   "execution_count": 34,
   "metadata": {},
   "outputs": [
    {
     "name": "stdout",
     "output_type": "stream",
     "text": [
      "Number of training descriptors: 9469\n",
      "Number of training labels: 9469\n",
      "Number of validation descriptors: 3925\n",
      "Number of validation labels: 3925\n"
     ]
    }
   ],
   "source": [
    "print(f\"Number of training descriptors: {len(train_descriptors)}\")\n",
    "print(f\"Number of training labels: {len(train_labels)}\")\n",
    "print(f\"Number of validation descriptors: {len(val_descriptors)}\")\n",
    "print(f\"Number of validation labels: {len(val_labels)}\")\n"
   ]
  },
  {
   "cell_type": "markdown",
   "metadata": {},
   "source": [
    "2. Build a k-nearest neighbors classifier on the training set (```sklearn.neighbors.KNeighborsClassifier```).\n",
    "\n",
    "This model will find the $k$ nearest neighbors to the query point and output the most common label.  Use the default value of $k$.\n",
    "\n",
    "Run the model on the test set and print out the accuracy (```sklearn.metrics.accuracy_score```)."
   ]
  },
  {
   "cell_type": "code",
   "execution_count": 35,
   "metadata": {},
   "outputs": [],
   "source": [
    "knn = KNeighborsClassifier()\n",
    "knn.fit(train_descriptors, train_labels)\n",
    "val_predictions =knn.predict(val_descriptors)\n",
    "\n",
    "accuracy = accuracy_score(val_labels, val_predictions)\n",
    "\n"
   ]
  },
  {
   "cell_type": "code",
   "execution_count": 36,
   "metadata": {},
   "outputs": [
    {
     "name": "stdout",
     "output_type": "stream",
     "text": [
      "0.26038216560509553\n"
     ]
    }
   ],
   "source": [
    "print(accuracy)"
   ]
  },
  {
   "cell_type": "code",
   "execution_count": 39,
   "metadata": {},
   "outputs": [
    {
     "name": "stdout",
     "output_type": "stream",
     "text": [
      "golf_ball\n"
     ]
    }
   ],
   "source": [
    "counter = Counter(val_predictions)\n",
    "most_common = counter.most_common(1)[0][0]\n",
    "print(most_common)"
   ]
  },
  {
   "cell_type": "markdown",
   "metadata": {},
   "source": [
    "3. Test $k$ from 1 to 20 and make a plot of the train and test accuracy.  Explain how bias and variance changes as $k$ increases.  Which is the best setting of $k$?"
   ]
  },
  {
   "cell_type": "code",
   "execution_count": 44,
   "metadata": {},
   "outputs": [
    {
     "name": "stdout",
     "output_type": "stream",
     "text": [
      "k is : 1, with an accuracy of  0.27235668789808914\n",
      "k is : 2, with an accuracy of  0.27261146496815286\n",
      "k is : 3, with an accuracy of  0.2647133757961783\n",
      "k is : 4, with an accuracy of  0.26522292993630575\n",
      "k is : 5, with an accuracy of  0.26038216560509553\n",
      "k is : 6, with an accuracy of  0.2647133757961783\n",
      "k is : 7, with an accuracy of  0.2647133757961783\n",
      "k is : 8, with an accuracy of  0.26420382165605094\n",
      "k is : 9, with an accuracy of  0.2619108280254777\n",
      "k is : 10, with an accuracy of  0.2624203821656051\n",
      "k is : 11, with an accuracy of  0.2570700636942675\n",
      "k is : 12, with an accuracy of  0.2580891719745223\n",
      "k is : 13, with an accuracy of  0.25834394904458596\n",
      "k is : 14, with an accuracy of  0.25910828025477706\n",
      "k is : 15, with an accuracy of  0.2593630573248408\n",
      "k is : 16, with an accuracy of  0.2578343949044586\n",
      "k is : 17, with an accuracy of  0.25834394904458596\n",
      "k is : 18, with an accuracy of  0.2573248407643312\n",
      "k is : 19, with an accuracy of  0.2588535031847134\n",
      "k is : 20, with an accuracy of  0.25987261146496815\n"
     ]
    }
   ],
   "source": [
    "\n",
    "for i in range(1,21):\n",
    "    knn = KNeighborsClassifier(n_neighbors=i)\n",
    "    knn.fit(train_descriptors, train_labels)\n",
    "    val_predictions = knn.predict(val_descriptors)\n",
    "    accuracy = accuracy_score(val_labels, val_predictions)\n",
    "    print(f\"k is : {i}, with an accuracy of \", accuracy)"
   ]
  },
  {
   "cell_type": "markdown",
   "metadata": {},
   "source": [
    "I am a bit lost, I thought there would be a reverse correlation with the increase in K. I would assume smaller k means less bias (because we are closer to the training data) and large k would mean Variance decreases. However, it seemss that the best K was 1 with the highest accuracy. "
   ]
  }
 ],
 "metadata": {
  "kernelspec": {
   "display_name": "Python 3",
   "language": "python",
   "name": "python3"
  },
  "language_info": {
   "codemirror_mode": {
    "name": "ipython",
    "version": 3
   },
   "file_extension": ".py",
   "mimetype": "text/x-python",
   "name": "python",
   "nbconvert_exporter": "python",
   "pygments_lexer": "ipython3",
   "version": "3.10.12"
  }
 },
 "nbformat": 4,
 "nbformat_minor": 2
}
