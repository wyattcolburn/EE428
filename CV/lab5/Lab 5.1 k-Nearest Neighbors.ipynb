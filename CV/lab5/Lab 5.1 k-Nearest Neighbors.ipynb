{
 "cells": [
  {
   "cell_type": "markdown",
   "metadata": {},
   "source": [
    "# k-Nearest Neighbors"
   ]
  },
  {
   "cell_type": "markdown",
   "metadata": {},
   "source": [
    "In this lab you will explore tuning a k-Nearest Neighbors model for image classification.\n",
    "\n",
    "We will use the [Imagenette dataset](https://github.com/fastai/imagenette), a small subset of the larger ImageNet dataset.  Download the 160 px version and extract it in the same folder as this notebook."
   ]
  },
  {
   "cell_type": "code",
   "execution_count": 1,
   "metadata": {},
   "outputs": [],
   "source": [
    "import glob\n",
    "import imageio\n",
    "import skimage\n",
    "from matplotlib import pyplot as plt\n",
    "import numpy as np"
   ]
  },
  {
   "cell_type": "markdown",
   "metadata": {},
   "source": [
    "Here is some code to load the dataset and remap the labels to nicer names."
   ]
  },
  {
   "cell_type": "code",
   "execution_count": 2,
   "metadata": {},
   "outputs": [],
   "source": [
    "label_map = {\n",
    "    'n01440764':'fish',\n",
    "    'n02102040':'dog',\n",
    "    'n02979186':'cassette_tape',\n",
    "    'n03000684':'chain_saw',\n",
    "    'n03028079':'church',\n",
    "    'n03394916':'french_horn',\n",
    "    'n03417042':'garbage_truck',\n",
    "    'n03425413':'gas_station',\n",
    "    'n03445777':'golf_ball',\n",
    "    'n03888257':'parachute'\n",
    "}"
   ]
  },
  {
   "cell_type": "code",
   "execution_count": null,
   "metadata": {},
   "outputs": [
    {
     "name": "stderr",
     "output_type": "stream",
     "text": [
      "/var/folders/cn/043rpj9s7gn508l3jykd91gh0000gn/T/ipykernel_44874/764307085.py:7: DeprecationWarning: Starting with ImageIO v3 the behavior of this function will switch to that of iio.v3.imread. To keep the current behavior (and make this warning disappear) use `import imageio.v2 as imageio` or call `imageio.v2.imread` directly.\n",
      "  image = imageio.imread(path)\n",
      "/var/folders/cn/043rpj9s7gn508l3jykd91gh0000gn/T/ipykernel_44874/764307085.py:7: DeprecationWarning: Starting with ImageIO v3 the behavior of this function will switch to that of iio.v3.imread. To keep the current behavior (and make this warning disappear) use `import imageio.v2 as imageio` or call `imageio.v2.imread` directly.\n",
      "  image = imageio.imread(path)\n"
     ]
    }
   ],
   "source": [
    "def load_split(split):\n",
    "    images = []\n",
    "    labels = []\n",
    "    for key,value in label_map.items():\n",
    "        image_paths = sorted(glob.glob(f'imagenette2-160/{split}/{key}/*.JPEG'))\n",
    "        for path in image_paths:\n",
    "            image = imageio.imread(path)\n",
    "            if len(image.shape)>2:\n",
    "                image = skimage.color.rgb2gray(image)\n",
    "            if image.shape[0] > 160:\n",
    "                image = image[image.shape[0]//2-80:image.shape[0]//2+80,:]\n",
    "            if image.shape[1] > 160:\n",
    "                image = image[:,image.shape[1]//2-80:image.shape[1]//2+80]\n",
    "            images.append(image)\n",
    "            labels.append(value)\n",
    "    return images, labels\n",
    "\n",
    "train_images, train_labels = load_split('train')\n",
    "val_images, val_labels = load_split('val')"
   ]
  },
  {
   "cell_type": "markdown",
   "metadata": {},
   "source": [
    "Now what we have are lists `train_images` and `train_labels` containing the images and labels for the training set, and the same for the validation set."
   ]
  },
  {
   "cell_type": "markdown",
   "metadata": {},
   "source": [
    "1. Compute a HOG descriptor for each image to make two lists, `train_descriptors` and `val_descriptors` (```skimage.features.hog```)."
   ]
  },
  {
   "cell_type": "code",
   "execution_count": 6,
   "metadata": {},
   "outputs": [
    {
     "data": {
      "text/plain": [
       "(9469, 26244)"
      ]
     },
     "execution_count": 6,
     "metadata": {},
     "output_type": "execute_result"
    }
   ],
   "source": []
  },
  {
   "cell_type": "markdown",
   "metadata": {},
   "source": [
    "2. Build a k-nearest neighbors classifier on the training set (```sklearn.neighbors.KNeighborsClassifier```).\n",
    "\n",
    "This model will find the $k$ nearest neighbors to the query point and output the most common label.  Use the default value of $k$.\n",
    "\n",
    "Run the model on the test set and print out the accuracy (```sklearn.metrics.accuracy_score```)."
   ]
  },
  {
   "cell_type": "code",
   "execution_count": null,
   "metadata": {},
   "outputs": [],
   "source": []
  },
  {
   "cell_type": "markdown",
   "metadata": {},
   "source": [
    "3. Test $k$ from 1 to 20 and make a plot of the train and test accuracy.  Explain how bias and variance changes as $k$ increases.  Which is the best setting of $k$?"
   ]
  },
  {
   "cell_type": "markdown",
   "metadata": {},
   "source": []
  }
 ],
 "metadata": {
  "kernelspec": {
   "display_name": ".venv",
   "language": "python",
   "name": "python3"
  },
  "language_info": {
   "codemirror_mode": {
    "name": "ipython",
    "version": 3
   },
   "file_extension": ".py",
   "mimetype": "text/x-python",
   "name": "python",
   "nbconvert_exporter": "python",
   "pygments_lexer": "ipython3",
   "version": "3.12.7"
  }
 },
 "nbformat": 4,
 "nbformat_minor": 2
}
