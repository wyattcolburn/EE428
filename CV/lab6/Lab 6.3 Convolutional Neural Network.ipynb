{
 "cells": [
  {
   "cell_type": "markdown",
   "metadata": {},
   "source": [
    "# Convolutional Neural Networks with Keras\n",
    "\n",
    "In this lab you will explore how to create a convolutional neural network (CNN) with Keras.\n",
    "\n",
    "You likely want to run this in Colab if you don't have a GPU on your machine.  Make sure to select the GPU runtime in `Runtime > Change runtime type`."
   ]
  },
  {
   "cell_type": "markdown",
   "metadata": {},
   "source": [
    "Once again we will load our image classification dataset.   You will need to download the data and put it in the same folder as this notebook, as in previous labs.\n",
    "\n",
    "This time I included code to resize the images to 128x128, to make it easier to set up the neural network."
   ]
  },
  {
   "cell_type": "code",
   "execution_count": null,
   "metadata": {},
   "outputs": [],
   "source": [
    "import os\n",
    "if not os.path.exists('seg_train'):\n",
    "  !wget -O archive.zip https://www.dropbox.com/scl/fi/ribf92om67kpi34wukl7q/archive.zip?rlkey=qn5v9cwvaqwba8jhsr7diyxnm&dl=1 \n",
    "  !unzip archive.zip"
   ]
  },
  {
   "cell_type": "code",
   "execution_count": 2,
   "metadata": {},
   "outputs": [],
   "source": [
    "import glob\n",
    "import imageio\n",
    "import skimage\n",
    "import numpy as np\n",
    "from matplotlib import pyplot as plt"
   ]
  },
  {
   "cell_type": "code",
   "execution_count": 3,
   "metadata": {},
   "outputs": [],
   "source": [
    "label_names = ['buildings','forest','glacier','mountain','sea','street']"
   ]
  },
  {
   "cell_type": "code",
   "execution_count": null,
   "metadata": {},
   "outputs": [
    {
     "name": "stderr",
     "output_type": "stream",
     "text": [
      "/var/folders/cn/043rpj9s7gn508l3jykd91gh0000gn/T/ipykernel_35667/3017286436.py:7: DeprecationWarning: Starting with ImageIO v3 the behavior of this function will switch to that of iio.v3.imread. To keep the current behavior (and make this warning disappear) use `import imageio.v2 as imageio` or call `imageio.v2.imread` directly.\n",
      "  image = imageio.imread(path)\n"
     ]
    }
   ],
   "source": [
    "def load_split(split):\n",
    "    images = []\n",
    "    labels = []\n",
    "    for i,label in enumerate(label_names):\n",
    "        image_paths = sorted(glob.glob(f'seg_{split}/seg_{split}/{label}/*.jpg'))\n",
    "        for path in image_paths:\n",
    "            image = imageio.imread(path)\n",
    "            if len(image.shape)<3:\n",
    "                continue\n",
    "            if image.shape[0]!=150 or image.shape[1]!=150 or image.shape[2]!=3:\n",
    "                continue\n",
    "            image = skimage.transform.resize(image,(32,32,3)).astype('float32')\n",
    "            images.append(image)\n",
    "            labels.append(i)\n",
    "    return np.array(images), np.array(labels)\n",
    "\n",
    "train_images, train_labels = load_split('train')\n",
    "test_images, test_labels = load_split('test')"
   ]
  },
  {
   "cell_type": "code",
   "execution_count": null,
   "metadata": {},
   "outputs": [],
   "source": [
    "plt.imshow(train_images[0])\n",
    "plt.title(train_labels[0])"
   ]
  },
  {
   "cell_type": "markdown",
   "metadata": {},
   "source": [
    "## Exercises\n",
    "\n",
    "Create a CNN to classify the images.  Here is a starting point for your architecture, although you are free to put whatever you want into the network:\n",
    "\n",
    "* Input layer\n",
    "* 2D convolution, 3x3 kernel, 32 channels, ReLU activation\n",
    "* Max pooling: 2x2 kernel, stride of 2\n",
    "* 2D convolution, 3x3 kernel, 64 channels, ReLU activation\n",
    "* Max pooling: 2x2 kernel, stride of 2\n",
    "* 2D convolution, 3x3 kernel, 128 channels, ReLU activation\n",
    "* Max pooling: 2x2 kernel, stride of 2\n",
    "* Flatten\n",
    "* Dense output layer configured for multi-class classification\n",
    "\n",
    "Choose some settings for the optimizer etc. and see what accuracy can you achieve on this dataset."
   ]
  },
  {
   "cell_type": "code",
   "execution_count": null,
   "metadata": {},
   "outputs": [],
   "source": [
    "import keras\n",
    "from keras import Sequential\n",
    "from keras.optimizers import SGD, Adam\n",
    "from keras.layers import Input, Dense, Conv2D, MaxPooling2D, Flatten"
   ]
  },
  {
   "cell_type": "markdown",
   "metadata": {},
   "source": []
  }
 ],
 "metadata": {
  "kernelspec": {
   "display_name": ".venv",
   "language": "python",
   "name": "python3"
  },
  "language_info": {
   "codemirror_mode": {
    "name": "ipython",
    "version": 3
   },
   "file_extension": ".py",
   "mimetype": "text/x-python",
   "name": "python",
   "nbconvert_exporter": "python",
   "pygments_lexer": "ipython3",
   "version": "3.9.6"
  }
 },
 "nbformat": 4,
 "nbformat_minor": 2
}
