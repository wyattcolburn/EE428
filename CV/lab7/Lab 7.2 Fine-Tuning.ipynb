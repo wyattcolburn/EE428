{
 "cells": [
  {
   "cell_type": "markdown",
   "metadata": {
    "id": "x6uOfRzgAOal"
   },
   "source": [
    "# Lab 7.2 Fine-Tuning\n",
    "\n",
    "In this notebook you will explore fine-tuning a CNN to classify pet breeds."
   ]
  },
  {
   "cell_type": "markdown",
   "metadata": {
    "id": "uyzt-DP1N2Eb"
   },
   "source": [
    "Here is some code to download a prepared version of the [Oxford-IIIT Pet dataset](https://www.robots.ox.ac.uk/~vgg/data/pets/)."
   ]
  },
  {
   "cell_type": "code",
   "execution_count": null,
   "metadata": {
    "id": "Y7DK-ZnOphy1"
   },
   "outputs": [],
   "source": [
    "import os\n",
    "if not os.path.exists('oxford_pets.zip'):\n",
    "  !wget \"https://www.dropbox.com/scl/fi/p49ifha27c2u3uptfj42w/oxford_pets_corrected.zip?rlkey=dwk3dsptzir8v846imsq6bgw3&dl=1\" -O oxford_pets.zip\n",
    "  !unzip -qq oxford_pets.zip"
   ]
  },
  {
   "cell_type": "code",
   "execution_count": null,
   "metadata": {
    "id": "rysmvQcVme6i"
   },
   "outputs": [],
   "source": [
    "import keras\n",
    "import numpy as np\n",
    "from matplotlib import pyplot as plt"
   ]
  },
  {
   "cell_type": "markdown",
   "metadata": {
    "id": "58FKxOHhN2Ec"
   },
   "source": [
    "### Exercises"
   ]
  },
  {
   "cell_type": "markdown",
   "metadata": {
    "id": "kmfeuXNzN2Ed"
   },
   "source": [
    "1. Set up the data loaders.\n",
    "\n",
    "- Use `keras.utils.image_dataset_from_directory` to create training, validation and test datasets.  \n",
    "- Set the image size to (224,224) and use a validation split of 0.1.\n",
    "- Remember to use the same random seed for training and validation splits."
   ]
  },
  {
   "cell_type": "code",
   "execution_count": null,
   "metadata": {
    "colab": {
     "base_uri": "https://localhost:8080/"
    },
    "id": "Y2OU-ZaAN2Ed",
    "outputId": "f93c3dc1-2005-4c61-d812-b300df9a52c1"
   },
   "outputs": [],
   "source": []
  },
  {
   "cell_type": "markdown",
   "metadata": {
    "id": "ICpgpWTxAj3_"
   },
   "source": [
    "2. Create a `Sequential` model with the pre-trained `VGG16` network.\n",
    "\n",
    "The model should have the following layers:\n",
    "- Input layer\n",
    "- One or more [data augmentation](https://keras.io/api/layers/preprocessing_layers/image_augmentation/) layers such as `RandomFlip`, `RandomZoom`, `RandomRotation`, etc.\n",
    "- VGG16 preprocess function inside a `Lambda` layer\n",
    "- VGG16 layer: don't include top; use `max` pooling.\n",
    "- Dense layer with 35 outputs and correct activation function for multi-class classification"
   ]
  },
  {
   "cell_type": "code",
   "execution_count": null,
   "metadata": {
    "id": "5TKMi61_ml8v"
   },
   "outputs": [],
   "source": []
  },
  {
   "cell_type": "markdown",
   "metadata": {
    "id": "4Btj59JlN2Ed"
   },
   "source": [
    "Set the VGG16 part of the network to be fixed by setting the `trainable` attribute of VGG16 layer to `False`.  (You can access the layers of the model with `model.layers`.)"
   ]
  },
  {
   "cell_type": "code",
   "execution_count": null,
   "metadata": {
    "colab": {
     "base_uri": "https://localhost:8080/"
    },
    "id": "UXVqqX8yN2Ed",
    "outputId": "72cb87e5-3231-4b28-91b9-f870ba018f7f"
   },
   "outputs": [],
   "source": []
  },
  {
   "cell_type": "markdown",
   "metadata": {
    "id": "4pBdlU3RN2Ed"
   },
   "source": [
    "Check the model summary to make sure that the VGG16 layer is trainable (it should report a very large number of non-trainable parameters, and a small number of trainable parameters.)\n"
   ]
  },
  {
   "cell_type": "code",
   "execution_count": null,
   "metadata": {
    "colab": {
     "base_uri": "https://localhost:8080/",
     "height": 289
    },
    "id": "DAhaJFg1mvih",
    "outputId": "6b62b315-0b9b-4ace-bad1-84b676011644"
   },
   "outputs": [],
   "source": []
  },
  {
   "cell_type": "markdown",
   "metadata": {
    "id": "jI_7Dm4oN2Ee"
   },
   "source": [
    "Compile the model with multi-class classification loss and accuracy metric.  You can use Adam with learning rate 3e-4."
   ]
  },
  {
   "cell_type": "code",
   "execution_count": null,
   "metadata": {
    "id": "MWWeiZAA_MG-"
   },
   "outputs": [],
   "source": []
  },
  {
   "cell_type": "markdown",
   "metadata": {
    "id": "wZdx7Yr7N2Ee"
   },
   "source": [
    "4. Evaluate the model on the test set and check that the accuracy is about $1/35=.029$."
   ]
  },
  {
   "cell_type": "code",
   "execution_count": null,
   "metadata": {
    "colab": {
     "base_uri": "https://localhost:8080/"
    },
    "id": "aTnAvRKk_MG_",
    "outputId": "6622766d-48a6-452c-c727-4774bba38c9d"
   },
   "outputs": [],
   "source": []
  },
  {
   "cell_type": "markdown",
   "metadata": {
    "id": "pZNb41ImN2Ee"
   },
   "source": [
    "5. Now train the model on the training set (don't forget to include the validation set) for 20 epochs."
   ]
  },
  {
   "cell_type": "code",
   "execution_count": null,
   "metadata": {
    "colab": {
     "base_uri": "https://localhost:8080/"
    },
    "id": "-ZJq3eqiAN_d",
    "outputId": "79d2e613-d3e9-4db8-a64a-ce7ed67d35c2"
   },
   "outputs": [],
   "source": []
  },
  {
   "cell_type": "markdown",
   "metadata": {
    "id": "e6bQXPSKN2Ee"
   },
   "source": [
    "6. Evaluate the accuracy of the fine-tuned model on the test set."
   ]
  },
  {
   "cell_type": "code",
   "execution_count": null,
   "metadata": {
    "colab": {
     "base_uri": "https://localhost:8080/"
    },
    "id": "ZVPh1cjk0i2u",
    "outputId": "e2a1651f-b8d2-41ab-d17c-d9f3806a7328"
   },
   "outputs": [],
   "source": []
  },
  {
   "cell_type": "markdown",
   "metadata": {
    "id": "1zHFu1h7N2Ee"
   },
   "source": [
    "7. The following code will show some test images with the correct and predicted labels."
   ]
  },
  {
   "cell_type": "code",
   "execution_count": null,
   "metadata": {
    "colab": {
     "base_uri": "https://localhost:8080/"
    },
    "id": "Gg_WzjG82DBK",
    "outputId": "90d4cb7f-60ef-42fe-80b2-ad0458a53ecd"
   },
   "outputs": [],
   "source": [
    "images, labels = next(iter(test_ds))\n",
    "preds = model.predict(images)"
   ]
  },
  {
   "cell_type": "code",
   "execution_count": null,
   "metadata": {
    "colab": {
     "base_uri": "https://localhost:8080/",
     "height": 1000
    },
    "id": "ocfrdyDSrZQD",
    "outputId": "cb98c5bf-e377-4f27-9978-3fdd8f6891e4"
   },
   "outputs": [],
   "source": [
    "for im,label,pred in zip(images,labels,preds):\n",
    "  plt.imshow(im.numpy().astype('uint8'))\n",
    "  plt.title(f'correct: {test_ds.class_names[label]} | predicted: {test_ds.class_names[np.argmax(pred)]}')\n",
    "  plt.show()"
   ]
  }
 ],
 "metadata": {
  "accelerator": "GPU",
  "colab": {
   "provenance": []
  },
  "kernelspec": {
   "display_name": ".venv",
   "language": "python",
   "name": "python3"
  },
  "language_info": {
   "codemirror_mode": {
    "name": "ipython",
    "version": 3
   },
   "file_extension": ".py",
   "mimetype": "text/x-python",
   "name": "python",
   "nbconvert_exporter": "python",
   "pygments_lexer": "ipython3",
   "version": "3.9.6"
  }
 },
 "nbformat": 4,
 "nbformat_minor": 0
}
