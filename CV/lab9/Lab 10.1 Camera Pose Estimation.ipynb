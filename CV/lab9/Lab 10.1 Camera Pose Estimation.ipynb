{
 "cells": [
  {
   "cell_type": "markdown",
   "metadata": {},
   "source": [
    "### Camera Pose Estimation\n",
    "\n",
    "In this lab you will manually create 3D-2D point correspondences in a picture of an object and compute the pose of the camera (the 3x4 projection matrix) using the \"direct linear transform\" (DLT)."
   ]
  },
  {
   "cell_type": "markdown",
   "metadata": {},
   "source": [
    "1. First you need some object, such a laptop, a book, or a table -- anything that has points on it that you can measure.  Using a ruler, a measuring tape, or even just your thumb, measure six points on the object.  (Alternatively, you can find a picture online of some regular object like a cube where you can accurately guess what the measurements would be.)\n",
    "\n",
    "You need to choose a coordinate system for the object, i.e., choose a point for the origin, and the directions of the X, Y, and Z axes.  For example, on a book, the top-left corner could be the origin, with the front cover being the X-Y plane, and the Z axis going along the spine.\n",
    "\n",
    "The points can be anywhere on the object, as long as they are not all in a line (collinear).\n",
    "\n",
    "Store the points in a list or Numpy array."
   ]
  },
  {
   "cell_type": "code",
   "execution_count": null,
   "metadata": {},
   "outputs": [],
   "source": []
  },
  {
   "cell_type": "markdown",
   "metadata": {},
   "source": [
    "2. Now take a picture of the object where you can see all six points.  Use an image editor or whatever online utility you can find to determine the pixel coordinates of the six points.\n",
    "\n",
    "Store the 2D point locations in an list or array here, in the same order as the 3D points above."
   ]
  },
  {
   "cell_type": "code",
   "execution_count": null,
   "metadata": {},
   "outputs": [],
   "source": []
  },
  {
   "cell_type": "markdown",
   "metadata": {},
   "source": [
    "Plot the 2d points on top of the image to make sure everything looks good."
   ]
  },
  {
   "cell_type": "code",
   "execution_count": null,
   "metadata": {},
   "outputs": [],
   "source": []
  },
  {
   "cell_type": "markdown",
   "metadata": {},
   "source": [
    "3. Now you will calculate the $3\\times4$ pose matrix relating the 3D points and the 2D points:\n",
    "\n",
    "$$\\tilde{\\mathbf{x}} \\sim \\mathbf{P}\\mathbf{X}$$\n",
    "\n",
    "Recall from lecture that after converting to inhomogeneous coordinates we have:\n",
    "\n",
    "$$(\\mathbf{P}_3\\mathbf{X})x-\\mathbf{P}_1\\mathbf{X}=0$$\n",
    "$$(\\mathbf{P}_3\\mathbf{X})y-\\mathbf{P}_2\\mathbf{X}=0$$\n",
    "\n",
    "Let's combine the three rows of $\\mathbf{P}$ into a column vector $\\mathbf{p}$:\n",
    "\n",
    "$$\\mathbf{p}=\\begin{bmatrix}\n",
    "\\mathbf{P}_1^T &\n",
    "\\mathbf{P}_2^T &\n",
    "\\mathbf{P}_3^T\n",
    "\\end{bmatrix}$$\n",
    "\n",
    "Now we can re-write our equations using a matrix of coefficients $\\mathbf{A}$ such that $\\mathbf{A}\\mathbf{p}=\\mathbf{0}$:\n",
    "\n",
    "$$\\begin{bmatrix}\n",
    "-\\mathbf{X} & \\mathbf{0} & \\mathbf{X}x \\\\\n",
    "\\mathbf{0} & -\\mathbf{X} & \\mathbf{X}y \\\\\n",
    "\\end{bmatrix}\n",
    "\\begin{bmatrix}\n",
    "\\mathbf{P_1}^T \\\\\n",
    "\\mathbf{P_2}^T \\\\\n",
    "\\mathbf{P_3}^T\n",
    "\\end{bmatrix}\n",
    "=\n",
    "\\mathbf{0}$$\n",
    "\n",
    "You can stack up this matrix for each 3D-2D correspondence to create a $12\\times12$ matrix of coefficients $\\mathbf{A}$.  Then solve the system $\\mathbf{A}\\mathbf{p}=\\mathbf{0}$ using the code block below.  Then rearrange $\\mathbf{p}$ into the $3\\times4$ matrix $\\mathbf{P}$."
   ]
  },
  {
   "cell_type": "code",
   "execution_count": null,
   "metadata": {},
   "outputs": [],
   "source": []
  },
  {
   "cell_type": "code",
   "execution_count": null,
   "metadata": {},
   "outputs": [],
   "source": [
    "# code to find null vector of A (solve Ap=0):\n",
    "U,S,Vh = np.linalg.svd(A)\n",
    "p = Vh[-1,:].T"
   ]
  },
  {
   "cell_type": "markdown",
   "metadata": {},
   "source": [
    "4. Verify that the pose matrix solution is correct by calculating the residuals $\\mathbf{A}\\mathbf{p}$.  All of the residuals should be small numbers.\n",
    "\n",
    "Note that in numpy `@` is the matrix multiplication operator, not `*`."
   ]
  },
  {
   "cell_type": "code",
   "execution_count": null,
   "metadata": {},
   "outputs": [],
   "source": []
  },
  {
   "cell_type": "markdown",
   "metadata": {},
   "source": [
    "5. Plot the 2D points and the projected 3D points on the image to visually verify your solution.\n",
    "\n",
    "To project a 3D point you calculate $\\mathbf{P}\\mathbf{X}$ and then convert to inhomogeneous (divide by Z)."
   ]
  },
  {
   "cell_type": "code",
   "execution_count": null,
   "metadata": {},
   "outputs": [],
   "source": []
  },
  {
   "cell_type": "markdown",
   "metadata": {},
   "source": [
    "6. (Optional): Calculate the re-projection error of each point.\n",
    "\n",
    "The re-projection error is the Euclidean distance between the true 2D point and the corresponding projected 3D point.  You can compute the Euclidean distance using `np.linalg.norm(point-proj)` where `point` is the true point and `proj` is the projected 3D point."
   ]
  },
  {
   "cell_type": "code",
   "execution_count": null,
   "metadata": {},
   "outputs": [],
   "source": []
  }
 ],
 "metadata": {
  "kernelspec": {
   "display_name": ".venv",
   "language": "python",
   "name": "python3"
  },
  "language_info": {
   "codemirror_mode": {
    "name": "ipython",
    "version": 3
   },
   "file_extension": ".py",
   "mimetype": "text/x-python",
   "name": "python",
   "nbconvert_exporter": "python",
   "pygments_lexer": "ipython3",
   "version": "3.9.6"
  }
 },
 "nbformat": 4,
 "nbformat_minor": 2
}
